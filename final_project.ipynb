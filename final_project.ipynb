{
  "nbformat": 4,
  "nbformat_minor": 0,
  "metadata": {
    "colab": {
      "name": "final_project.ipynb",
      "provenance": [],
      "collapsed_sections": [],
      "authorship_tag": "ABX9TyMZfK88JKGnICq+PY+Trta6",
      "include_colab_link": true
    },
    "kernelspec": {
      "name": "python3",
      "display_name": "Python 3"
    },
    "language_info": {
      "name": "python"
    }
  },
  "cells": [
    {
      "cell_type": "markdown",
      "metadata": {
        "id": "view-in-github",
        "colab_type": "text"
      },
      "source": [
        "<a href=\"https://colab.research.google.com/github/jarda51/ZSkladLogin2/blob/master/final_project.ipynb\" target=\"_parent\"><img src=\"https://colab.research.google.com/assets/colab-badge.svg\" alt=\"Open In Colab\"/></a>"
      ]
    },
    {
      "cell_type": "code",
      "metadata": {
        "id": "XV4xNnR2ddNb",
        "colab": {
          "base_uri": "https://localhost:8080/"
        },
        "outputId": "0cfa3065-bb20-4491-bb9e-13acdcefbc96"
      },
      "source": [
        "#mount_my_drive\n",
        "from google.colab import drive\n",
        "drive.mount('/content/drive')"
      ],
      "execution_count": null,
      "outputs": [
        {
          "output_type": "stream",
          "text": [
            "Drive already mounted at /content/drive; to attempt to forcibly remount, call drive.mount(\"/content/drive\", force_remount=True).\n"
          ],
          "name": "stdout"
        }
      ]
    },
    {
      "cell_type": "code",
      "metadata": {
        "id": "JOn3eiHnpNXH"
      },
      "source": [
        "##################################################################################################################"
      ],
      "execution_count": null,
      "outputs": []
    },
    {
      "cell_type": "code",
      "metadata": {
        "id": "vcpDwAcGj67S"
      },
      "source": [
        "# Renewable internal freshwater resources per capita = > rifr per capita"
      ],
      "execution_count": null,
      "outputs": []
    },
    {
      "cell_type": "code",
      "metadata": {
        "colab": {
          "base_uri": "https://localhost:8080/"
        },
        "id": "ZsnDHa0Upggf",
        "outputId": "4445732e-67ef-42bf-f78e-290b06eee611"
      },
      "source": [
        "!head -10  './drive/MyDrive/ColabNotebooks/final_project/Renewable internal freshwater resources per capita/API_ER.H2O.INTR.PC_DS2_en_csv_v2_2456313.csv'"
      ],
      "execution_count": null,
      "outputs": [
        {
          "output_type": "stream",
          "text": [
            "﻿\"Data Source\",\"World Development Indicators\",\r\n",
            "\r\n",
            "\"Last Updated Date\",\"2021-05-25\",\r\n",
            "\r\n",
            "\"Country Name\",\"Country Code\",\"Indicator Name\",\"Indicator Code\",\"1960\",\"1961\",\"1962\",\"1963\",\"1964\",\"1965\",\"1966\",\"1967\",\"1968\",\"1969\",\"1970\",\"1971\",\"1972\",\"1973\",\"1974\",\"1975\",\"1976\",\"1977\",\"1978\",\"1979\",\"1980\",\"1981\",\"1982\",\"1983\",\"1984\",\"1985\",\"1986\",\"1987\",\"1988\",\"1989\",\"1990\",\"1991\",\"1992\",\"1993\",\"1994\",\"1995\",\"1996\",\"1997\",\"1998\",\"1999\",\"2000\",\"2001\",\"2002\",\"2003\",\"2004\",\"2005\",\"2006\",\"2007\",\"2008\",\"2009\",\"2010\",\"2011\",\"2012\",\"2013\",\"2014\",\"2015\",\"2016\",\"2017\",\"2018\",\"2019\",\"2020\",\r\n",
            "\"Aruba\",\"ABW\",\"Renewable internal freshwater resources per capita (cubic meters)\",\"ER.H2O.INTR.PC\",\"\",\"\",\"\",\"\",\"\",\"\",\"\",\"\",\"\",\"\",\"\",\"\",\"\",\"\",\"\",\"\",\"\",\"\",\"\",\"\",\"\",\"\",\"\",\"\",\"\",\"\",\"\",\"\",\"\",\"\",\"\",\"\",\"\",\"\",\"\",\"\",\"\",\"\",\"\",\"\",\"\",\"\",\"\",\"\",\"\",\"\",\"\",\"\",\"\",\"\",\"\",\"\",\"\",\"\",\"\",\"\",\"\",\"\",\"\",\"\",\"\",\r\n",
            "\"Afghanistan\",\"AFG\",\"Renewable internal freshwater resources per capita (cubic meters)\",\"ER.H2O.INTR.PC\",\"\",\"\",\"5042.00368691841\",\"\",\"\",\"\",\"\",\"4533.68610507421\",\"\",\"\",\"\",\"\",\"3998.739739713\",\"\",\"\",\"\",\"\",\"3579.75131699165\",\"\",\"\",\"\",\"\",\"3659.9959262654\",\"\",\"\",\"\",\"\",\"4063.06707361106\",\"\",\"\",\"\",\"\",\"3254.96878060378\",\"\",\"\",\"\",\"\",\"2435.79547914293\",\"\",\"\",\"\",\"\",\"2086.21210693264\",\"\",\"\",\"\",\"\",\"1739.81798736379\",\"\",\"\",\"\",\"\",\"1513.09107787795\",\"\",\"\",\"\",\"\",\"1299.02690073947\",\"\",\"\",\"\",\r\n",
            "\"Angola\",\"AGO\",\"Renewable internal freshwater resources per capita (cubic meters)\",\"ER.H2O.INTR.PC\",\"\",\"\",\"26388.3339315283\",\"\",\"\",\"\",\"\",\"25631.0654054566\",\"\",\"\",\"\",\"\",\"23685.4874537333\",\"\",\"\",\"\",\"\",\"19644.9702571168\",\"\",\"\",\"\",\"\",\"16530.8641285833\",\"\",\"\",\"\",\"\",\"13845.6860864888\",\"\",\"\",\"\",\"\",\"11692.7961157163\",\"\",\"\",\"\",\"\",\"9951.87461713861\",\"\",\"\",\"\",\"\",\"8447.7696946194\",\"\",\"\",\"\",\"\",\"7079.52308697055\",\"\",\"\",\"\",\"\",\"5894.55180516467\",\"\",\"\",\"\",\"\",\"4963.65331323188\",\"\",\"\",\"\",\r\n",
            "\"Albania\",\"ALB\",\"Renewable internal freshwater resources per capita (cubic meters)\",\"ER.H2O.INTR.PC\",\"\",\"\",\"15718.869480208\",\"\",\"\",\"\",\"\",\"13685.4026102998\",\"\",\"\",\"\",\"\",\"11992.1930377518\",\"\",\"\",\"\",\"\",\"10702.0122170034\",\"\",\"\",\"\",\"\",\"9661.39157081297\",\"\",\"\",\"\",\"\",\"8723.55570833489\",\"\",\"\",\"\",\"\",\"8284.47086715004\",\"\",\"\",\"\",\"\",\"8544.34531098082\",\"\",\"\",\"\",\"\",\"8816.75248524259\",\"\",\"\",\"\",\"\",\"9057.18721475332\",\"\",\"\",\"\",\"\",\"9274.57961847344\",\"\",\"\",\"\",\"\",\"9361.54604018783\",\"\",\"\",\"\",\r\n",
            "\"Andorra\",\"AND\",\"Renewable internal freshwater resources per capita (cubic meters)\",\"ER.H2O.INTR.PC\",\"\",\"\",\"20533.5068314899\",\"\",\"\",\"\",\"\",\"15203.7768571153\",\"\",\"\",\"\",\"\",\"11735.8322177599\",\"\",\"\",\"\",\"\",\"9630.46596075799\",\"\",\"\",\"\",\"\",\"8068.72219665593\",\"\",\"\",\"\",\"\",\"6513.25972551852\",\"\",\"\",\"\",\"\",\"5359.32617850836\",\"\",\"\",\"\",\"\",\"4906.1824739223\",\"\",\"\",\"\",\"\",\"4505.41763622607\",\"\",\"\",\"\",\"\",\"3816.94160901746\",\"\",\"\",\"\",\"\",\"3828.84249093137\",\"\",\"\",\"\",\"\",\"4098.64806950559\",\"\",\"\",\"\",\r\n"
          ],
          "name": "stdout"
        }
      ]
    },
    {
      "cell_type": "code",
      "metadata": {
        "id": "56nHnXSuDR53"
      },
      "source": [
        "!sed -e '1,4d' < './drive/MyDrive/ColabNotebooks/final_project/Renewable internal freshwater resources per capita/API_ER.H2O.INTR.PC_DS2_en_csv_v2_2456313.csv' > './drive/MyDrive/ColabNotebooks/final_project/rifr.csv'"
      ],
      "execution_count": null,
      "outputs": []
    },
    {
      "cell_type": "code",
      "metadata": {
        "id": "gQt6kPoHENBi"
      },
      "source": [
        "import pandas as pd\n",
        "rifr = pd.read_csv('./drive/MyDrive/ColabNotebooks/final_project/rifr_cut.csv')"
      ],
      "execution_count": null,
      "outputs": []
    },
    {
      "cell_type": "code",
      "metadata": {
        "colab": {
          "base_uri": "https://localhost:8080/"
        },
        "id": "MIULnS3miFTV",
        "outputId": "ccfe80f5-0120-440b-faad-f2bf438c108e"
      },
      "source": [
        "rifr.shape"
      ],
      "execution_count": null,
      "outputs": [
        {
          "output_type": "execute_result",
          "data": {
            "text/plain": [
              "(264, 66)"
            ]
          },
          "metadata": {
            "tags": []
          },
          "execution_count": 10
        }
      ]
    },
    {
      "cell_type": "markdown",
      "metadata": {
        "id": "11oGdTQmqp0e"
      },
      "source": [
        "What columns are there?"
      ]
    },
    {
      "cell_type": "code",
      "metadata": {
        "id": "fgRWxMINKMGG",
        "colab": {
          "base_uri": "https://localhost:8080/"
        },
        "outputId": "2515b725-7f1d-459a-bbc4-5b701efa85a6"
      },
      "source": [
        "rifr.columns"
      ],
      "execution_count": null,
      "outputs": [
        {
          "output_type": "execute_result",
          "data": {
            "text/plain": [
              "Index(['Country Name', 'Country Code', 'Indicator Name', 'Indicator Code',\n",
              "       '1960', '1961', '1962', '1963', '1964', '1965', '1966', '1967', '1968',\n",
              "       '1969', '1970', '1971', '1972', '1973', '1974', '1975', '1976', '1977',\n",
              "       '1978', '1979', '1980', '1981', '1982', '1983', '1984', '1985', '1986',\n",
              "       '1987', '1988', '1989', '1990', '1991', '1992', '1993', '1994', '1995',\n",
              "       '1996', '1997', '1998', '1999', '2000', '2001', '2002', '2003', '2004',\n",
              "       '2005', '2006', '2007', '2008', '2009', '2010', '2011', '2012', '2013',\n",
              "       '2014', '2015', '2016', '2017', '2018', '2019', '2020', 'Unnamed: 65'],\n",
              "      dtype='object')"
            ]
          },
          "metadata": {
            "tags": []
          },
          "execution_count": 11
        }
      ]
    },
    {
      "cell_type": "markdown",
      "metadata": {
        "id": "P2H6k6MKq3gB"
      },
      "source": [
        "Get rid of unecessary columns 'Country Name', 'Indicator Name', 'Indicator Code','Unnamed: 65'  and check it"
      ]
    },
    {
      "cell_type": "code",
      "metadata": {
        "colab": {
          "base_uri": "https://localhost:8080/"
        },
        "id": "ryU6p1PzTKFL",
        "outputId": "118a217d-e42f-4b68-90b1-0c52bf540bed"
      },
      "source": [
        "rifr = rifr.drop(['Country Name', 'Indicator Name', 'Indicator Code','Unnamed: 65'], axis=1)\n",
        "rifr.columns"
      ],
      "execution_count": null,
      "outputs": [
        {
          "output_type": "execute_result",
          "data": {
            "text/plain": [
              "Index(['Country Code', '1960', '1961', '1962', '1963', '1964', '1965', '1966',\n",
              "       '1967', '1968', '1969', '1970', '1971', '1972', '1973', '1974', '1975',\n",
              "       '1976', '1977', '1978', '1979', '1980', '1981', '1982', '1983', '1984',\n",
              "       '1985', '1986', '1987', '1988', '1989', '1990', '1991', '1992', '1993',\n",
              "       '1994', '1995', '1996', '1997', '1998', '1999', '2000', '2001', '2002',\n",
              "       '2003', '2004', '2005', '2006', '2007', '2008', '2009', '2010', '2011',\n",
              "       '2012', '2013', '2014', '2015', '2016', '2017', '2018', '2019', '2020'],\n",
              "      dtype='object')"
            ]
          },
          "metadata": {
            "tags": []
          },
          "execution_count": 12
        }
      ]
    },
    {
      "cell_type": "markdown",
      "metadata": {
        "id": "7QDzw_UYrISw"
      },
      "source": [
        "Let´s see the head:"
      ]
    },
    {
      "cell_type": "code",
      "metadata": {
        "colab": {
          "base_uri": "https://localhost:8080/",
          "height": 238
        },
        "id": "7pr6-qSrrUtm",
        "outputId": "d7e1dae0-9b23-4205-9fa4-6ea8097678d3"
      },
      "source": [
        "rifr.head()"
      ],
      "execution_count": null,
      "outputs": [
        {
          "output_type": "execute_result",
          "data": {
            "text/html": [
              "<div>\n",
              "<style scoped>\n",
              "    .dataframe tbody tr th:only-of-type {\n",
              "        vertical-align: middle;\n",
              "    }\n",
              "\n",
              "    .dataframe tbody tr th {\n",
              "        vertical-align: top;\n",
              "    }\n",
              "\n",
              "    .dataframe thead th {\n",
              "        text-align: right;\n",
              "    }\n",
              "</style>\n",
              "<table border=\"1\" class=\"dataframe\">\n",
              "  <thead>\n",
              "    <tr style=\"text-align: right;\">\n",
              "      <th></th>\n",
              "      <th>Country Code</th>\n",
              "      <th>1960</th>\n",
              "      <th>1961</th>\n",
              "      <th>1962</th>\n",
              "      <th>1963</th>\n",
              "      <th>1964</th>\n",
              "      <th>1965</th>\n",
              "      <th>1966</th>\n",
              "      <th>1967</th>\n",
              "      <th>1968</th>\n",
              "      <th>1969</th>\n",
              "      <th>1970</th>\n",
              "      <th>1971</th>\n",
              "      <th>1972</th>\n",
              "      <th>1973</th>\n",
              "      <th>1974</th>\n",
              "      <th>1975</th>\n",
              "      <th>1976</th>\n",
              "      <th>1977</th>\n",
              "      <th>1978</th>\n",
              "      <th>1979</th>\n",
              "      <th>1980</th>\n",
              "      <th>1981</th>\n",
              "      <th>1982</th>\n",
              "      <th>1983</th>\n",
              "      <th>1984</th>\n",
              "      <th>1985</th>\n",
              "      <th>1986</th>\n",
              "      <th>1987</th>\n",
              "      <th>1988</th>\n",
              "      <th>1989</th>\n",
              "      <th>1990</th>\n",
              "      <th>1991</th>\n",
              "      <th>1992</th>\n",
              "      <th>1993</th>\n",
              "      <th>1994</th>\n",
              "      <th>1995</th>\n",
              "      <th>1996</th>\n",
              "      <th>1997</th>\n",
              "      <th>1998</th>\n",
              "      <th>1999</th>\n",
              "      <th>2000</th>\n",
              "      <th>2001</th>\n",
              "      <th>2002</th>\n",
              "      <th>2003</th>\n",
              "      <th>2004</th>\n",
              "      <th>2005</th>\n",
              "      <th>2006</th>\n",
              "      <th>2007</th>\n",
              "      <th>2008</th>\n",
              "      <th>2009</th>\n",
              "      <th>2010</th>\n",
              "      <th>2011</th>\n",
              "      <th>2012</th>\n",
              "      <th>2013</th>\n",
              "      <th>2014</th>\n",
              "      <th>2015</th>\n",
              "      <th>2016</th>\n",
              "      <th>2017</th>\n",
              "      <th>2018</th>\n",
              "      <th>2019</th>\n",
              "      <th>2020</th>\n",
              "    </tr>\n",
              "  </thead>\n",
              "  <tbody>\n",
              "    <tr>\n",
              "      <th>0</th>\n",
              "      <td>ABW</td>\n",
              "      <td>NaN</td>\n",
              "      <td>NaN</td>\n",
              "      <td>NaN</td>\n",
              "      <td>NaN</td>\n",
              "      <td>NaN</td>\n",
              "      <td>NaN</td>\n",
              "      <td>NaN</td>\n",
              "      <td>NaN</td>\n",
              "      <td>NaN</td>\n",
              "      <td>NaN</td>\n",
              "      <td>NaN</td>\n",
              "      <td>NaN</td>\n",
              "      <td>NaN</td>\n",
              "      <td>NaN</td>\n",
              "      <td>NaN</td>\n",
              "      <td>NaN</td>\n",
              "      <td>NaN</td>\n",
              "      <td>NaN</td>\n",
              "      <td>NaN</td>\n",
              "      <td>NaN</td>\n",
              "      <td>NaN</td>\n",
              "      <td>NaN</td>\n",
              "      <td>NaN</td>\n",
              "      <td>NaN</td>\n",
              "      <td>NaN</td>\n",
              "      <td>NaN</td>\n",
              "      <td>NaN</td>\n",
              "      <td>NaN</td>\n",
              "      <td>NaN</td>\n",
              "      <td>NaN</td>\n",
              "      <td>NaN</td>\n",
              "      <td>NaN</td>\n",
              "      <td>NaN</td>\n",
              "      <td>NaN</td>\n",
              "      <td>NaN</td>\n",
              "      <td>NaN</td>\n",
              "      <td>NaN</td>\n",
              "      <td>NaN</td>\n",
              "      <td>NaN</td>\n",
              "      <td>NaN</td>\n",
              "      <td>NaN</td>\n",
              "      <td>NaN</td>\n",
              "      <td>NaN</td>\n",
              "      <td>NaN</td>\n",
              "      <td>NaN</td>\n",
              "      <td>NaN</td>\n",
              "      <td>NaN</td>\n",
              "      <td>NaN</td>\n",
              "      <td>NaN</td>\n",
              "      <td>NaN</td>\n",
              "      <td>NaN</td>\n",
              "      <td>NaN</td>\n",
              "      <td>NaN</td>\n",
              "      <td>NaN</td>\n",
              "      <td>NaN</td>\n",
              "      <td>NaN</td>\n",
              "      <td>NaN</td>\n",
              "      <td>NaN</td>\n",
              "      <td>NaN</td>\n",
              "      <td>NaN</td>\n",
              "      <td>NaN</td>\n",
              "    </tr>\n",
              "    <tr>\n",
              "      <th>1</th>\n",
              "      <td>AFG</td>\n",
              "      <td>NaN</td>\n",
              "      <td>NaN</td>\n",
              "      <td>5042.003687</td>\n",
              "      <td>NaN</td>\n",
              "      <td>NaN</td>\n",
              "      <td>NaN</td>\n",
              "      <td>NaN</td>\n",
              "      <td>4533.686105</td>\n",
              "      <td>NaN</td>\n",
              "      <td>NaN</td>\n",
              "      <td>NaN</td>\n",
              "      <td>NaN</td>\n",
              "      <td>3998.739740</td>\n",
              "      <td>NaN</td>\n",
              "      <td>NaN</td>\n",
              "      <td>NaN</td>\n",
              "      <td>NaN</td>\n",
              "      <td>3579.751317</td>\n",
              "      <td>NaN</td>\n",
              "      <td>NaN</td>\n",
              "      <td>NaN</td>\n",
              "      <td>NaN</td>\n",
              "      <td>3659.995926</td>\n",
              "      <td>NaN</td>\n",
              "      <td>NaN</td>\n",
              "      <td>NaN</td>\n",
              "      <td>NaN</td>\n",
              "      <td>4063.067074</td>\n",
              "      <td>NaN</td>\n",
              "      <td>NaN</td>\n",
              "      <td>NaN</td>\n",
              "      <td>NaN</td>\n",
              "      <td>3254.968781</td>\n",
              "      <td>NaN</td>\n",
              "      <td>NaN</td>\n",
              "      <td>NaN</td>\n",
              "      <td>NaN</td>\n",
              "      <td>2435.795479</td>\n",
              "      <td>NaN</td>\n",
              "      <td>NaN</td>\n",
              "      <td>NaN</td>\n",
              "      <td>NaN</td>\n",
              "      <td>2086.212107</td>\n",
              "      <td>NaN</td>\n",
              "      <td>NaN</td>\n",
              "      <td>NaN</td>\n",
              "      <td>NaN</td>\n",
              "      <td>1739.817987</td>\n",
              "      <td>NaN</td>\n",
              "      <td>NaN</td>\n",
              "      <td>NaN</td>\n",
              "      <td>NaN</td>\n",
              "      <td>1513.091078</td>\n",
              "      <td>NaN</td>\n",
              "      <td>NaN</td>\n",
              "      <td>NaN</td>\n",
              "      <td>NaN</td>\n",
              "      <td>1299.026901</td>\n",
              "      <td>NaN</td>\n",
              "      <td>NaN</td>\n",
              "      <td>NaN</td>\n",
              "    </tr>\n",
              "    <tr>\n",
              "      <th>2</th>\n",
              "      <td>AGO</td>\n",
              "      <td>NaN</td>\n",
              "      <td>NaN</td>\n",
              "      <td>26388.333932</td>\n",
              "      <td>NaN</td>\n",
              "      <td>NaN</td>\n",
              "      <td>NaN</td>\n",
              "      <td>NaN</td>\n",
              "      <td>25631.065405</td>\n",
              "      <td>NaN</td>\n",
              "      <td>NaN</td>\n",
              "      <td>NaN</td>\n",
              "      <td>NaN</td>\n",
              "      <td>23685.487454</td>\n",
              "      <td>NaN</td>\n",
              "      <td>NaN</td>\n",
              "      <td>NaN</td>\n",
              "      <td>NaN</td>\n",
              "      <td>19644.970257</td>\n",
              "      <td>NaN</td>\n",
              "      <td>NaN</td>\n",
              "      <td>NaN</td>\n",
              "      <td>NaN</td>\n",
              "      <td>16530.864129</td>\n",
              "      <td>NaN</td>\n",
              "      <td>NaN</td>\n",
              "      <td>NaN</td>\n",
              "      <td>NaN</td>\n",
              "      <td>13845.686086</td>\n",
              "      <td>NaN</td>\n",
              "      <td>NaN</td>\n",
              "      <td>NaN</td>\n",
              "      <td>NaN</td>\n",
              "      <td>11692.796116</td>\n",
              "      <td>NaN</td>\n",
              "      <td>NaN</td>\n",
              "      <td>NaN</td>\n",
              "      <td>NaN</td>\n",
              "      <td>9951.874617</td>\n",
              "      <td>NaN</td>\n",
              "      <td>NaN</td>\n",
              "      <td>NaN</td>\n",
              "      <td>NaN</td>\n",
              "      <td>8447.769695</td>\n",
              "      <td>NaN</td>\n",
              "      <td>NaN</td>\n",
              "      <td>NaN</td>\n",
              "      <td>NaN</td>\n",
              "      <td>7079.523087</td>\n",
              "      <td>NaN</td>\n",
              "      <td>NaN</td>\n",
              "      <td>NaN</td>\n",
              "      <td>NaN</td>\n",
              "      <td>5894.551805</td>\n",
              "      <td>NaN</td>\n",
              "      <td>NaN</td>\n",
              "      <td>NaN</td>\n",
              "      <td>NaN</td>\n",
              "      <td>4963.653313</td>\n",
              "      <td>NaN</td>\n",
              "      <td>NaN</td>\n",
              "      <td>NaN</td>\n",
              "    </tr>\n",
              "    <tr>\n",
              "      <th>3</th>\n",
              "      <td>ALB</td>\n",
              "      <td>NaN</td>\n",
              "      <td>NaN</td>\n",
              "      <td>15718.869480</td>\n",
              "      <td>NaN</td>\n",
              "      <td>NaN</td>\n",
              "      <td>NaN</td>\n",
              "      <td>NaN</td>\n",
              "      <td>13685.402610</td>\n",
              "      <td>NaN</td>\n",
              "      <td>NaN</td>\n",
              "      <td>NaN</td>\n",
              "      <td>NaN</td>\n",
              "      <td>11992.193038</td>\n",
              "      <td>NaN</td>\n",
              "      <td>NaN</td>\n",
              "      <td>NaN</td>\n",
              "      <td>NaN</td>\n",
              "      <td>10702.012217</td>\n",
              "      <td>NaN</td>\n",
              "      <td>NaN</td>\n",
              "      <td>NaN</td>\n",
              "      <td>NaN</td>\n",
              "      <td>9661.391571</td>\n",
              "      <td>NaN</td>\n",
              "      <td>NaN</td>\n",
              "      <td>NaN</td>\n",
              "      <td>NaN</td>\n",
              "      <td>8723.555708</td>\n",
              "      <td>NaN</td>\n",
              "      <td>NaN</td>\n",
              "      <td>NaN</td>\n",
              "      <td>NaN</td>\n",
              "      <td>8284.470867</td>\n",
              "      <td>NaN</td>\n",
              "      <td>NaN</td>\n",
              "      <td>NaN</td>\n",
              "      <td>NaN</td>\n",
              "      <td>8544.345311</td>\n",
              "      <td>NaN</td>\n",
              "      <td>NaN</td>\n",
              "      <td>NaN</td>\n",
              "      <td>NaN</td>\n",
              "      <td>8816.752485</td>\n",
              "      <td>NaN</td>\n",
              "      <td>NaN</td>\n",
              "      <td>NaN</td>\n",
              "      <td>NaN</td>\n",
              "      <td>9057.187215</td>\n",
              "      <td>NaN</td>\n",
              "      <td>NaN</td>\n",
              "      <td>NaN</td>\n",
              "      <td>NaN</td>\n",
              "      <td>9274.579618</td>\n",
              "      <td>NaN</td>\n",
              "      <td>NaN</td>\n",
              "      <td>NaN</td>\n",
              "      <td>NaN</td>\n",
              "      <td>9361.546040</td>\n",
              "      <td>NaN</td>\n",
              "      <td>NaN</td>\n",
              "      <td>NaN</td>\n",
              "    </tr>\n",
              "    <tr>\n",
              "      <th>4</th>\n",
              "      <td>AND</td>\n",
              "      <td>NaN</td>\n",
              "      <td>NaN</td>\n",
              "      <td>20533.506831</td>\n",
              "      <td>NaN</td>\n",
              "      <td>NaN</td>\n",
              "      <td>NaN</td>\n",
              "      <td>NaN</td>\n",
              "      <td>15203.776857</td>\n",
              "      <td>NaN</td>\n",
              "      <td>NaN</td>\n",
              "      <td>NaN</td>\n",
              "      <td>NaN</td>\n",
              "      <td>11735.832218</td>\n",
              "      <td>NaN</td>\n",
              "      <td>NaN</td>\n",
              "      <td>NaN</td>\n",
              "      <td>NaN</td>\n",
              "      <td>9630.465961</td>\n",
              "      <td>NaN</td>\n",
              "      <td>NaN</td>\n",
              "      <td>NaN</td>\n",
              "      <td>NaN</td>\n",
              "      <td>8068.722197</td>\n",
              "      <td>NaN</td>\n",
              "      <td>NaN</td>\n",
              "      <td>NaN</td>\n",
              "      <td>NaN</td>\n",
              "      <td>6513.259726</td>\n",
              "      <td>NaN</td>\n",
              "      <td>NaN</td>\n",
              "      <td>NaN</td>\n",
              "      <td>NaN</td>\n",
              "      <td>5359.326179</td>\n",
              "      <td>NaN</td>\n",
              "      <td>NaN</td>\n",
              "      <td>NaN</td>\n",
              "      <td>NaN</td>\n",
              "      <td>4906.182474</td>\n",
              "      <td>NaN</td>\n",
              "      <td>NaN</td>\n",
              "      <td>NaN</td>\n",
              "      <td>NaN</td>\n",
              "      <td>4505.417636</td>\n",
              "      <td>NaN</td>\n",
              "      <td>NaN</td>\n",
              "      <td>NaN</td>\n",
              "      <td>NaN</td>\n",
              "      <td>3816.941609</td>\n",
              "      <td>NaN</td>\n",
              "      <td>NaN</td>\n",
              "      <td>NaN</td>\n",
              "      <td>NaN</td>\n",
              "      <td>3828.842491</td>\n",
              "      <td>NaN</td>\n",
              "      <td>NaN</td>\n",
              "      <td>NaN</td>\n",
              "      <td>NaN</td>\n",
              "      <td>4098.648070</td>\n",
              "      <td>NaN</td>\n",
              "      <td>NaN</td>\n",
              "      <td>NaN</td>\n",
              "    </tr>\n",
              "  </tbody>\n",
              "</table>\n",
              "</div>"
            ],
            "text/plain": [
              "  Country Code  1960  1961          1962  ...         2017  2018  2019  2020\n",
              "0          ABW   NaN   NaN           NaN  ...          NaN   NaN   NaN   NaN\n",
              "1          AFG   NaN   NaN   5042.003687  ...  1299.026901   NaN   NaN   NaN\n",
              "2          AGO   NaN   NaN  26388.333932  ...  4963.653313   NaN   NaN   NaN\n",
              "3          ALB   NaN   NaN  15718.869480  ...  9361.546040   NaN   NaN   NaN\n",
              "4          AND   NaN   NaN  20533.506831  ...  4098.648070   NaN   NaN   NaN\n",
              "\n",
              "[5 rows x 62 columns]"
            ]
          },
          "metadata": {
            "tags": []
          },
          "execution_count": 13
        }
      ]
    },
    {
      "cell_type": "markdown",
      "metadata": {
        "id": "d1NBx75NiZ1U"
      },
      "source": [
        "There are a lot of NaN in various columns. Let´s get rid of columns with all NaN"
      ]
    },
    {
      "cell_type": "code",
      "metadata": {
        "id": "ZGrYDJ-iiZJr"
      },
      "source": [
        "rifr.dropna(axis=1, how='all', inplace=True)"
      ],
      "execution_count": null,
      "outputs": []
    },
    {
      "cell_type": "code",
      "metadata": {
        "colab": {
          "base_uri": "https://localhost:8080/"
        },
        "id": "0sLKTYK4VUQ2",
        "outputId": "3b52f0b6-0ed4-468c-c031-3e9485786082"
      },
      "source": [
        "rifr.shape"
      ],
      "execution_count": null,
      "outputs": [
        {
          "output_type": "execute_result",
          "data": {
            "text/plain": [
              "(264, 14)"
            ]
          },
          "metadata": {
            "tags": []
          },
          "execution_count": 15
        }
      ]
    },
    {
      "cell_type": "markdown",
      "metadata": {
        "id": "RzDLYAT0rh6y"
      },
      "source": [
        "We have now 14 columns instead of 66. 52 Columns were with NaN. Now we can inspect the general overview:"
      ]
    },
    {
      "cell_type": "code",
      "metadata": {
        "colab": {
          "base_uri": "https://localhost:8080/",
          "height": 294
        },
        "id": "WsiMIyu_sCt5",
        "outputId": "7f49df10-5540-492d-9e7d-cc4d32808269"
      },
      "source": [
        "rifr.describe()"
      ],
      "execution_count": null,
      "outputs": [
        {
          "output_type": "execute_result",
          "data": {
            "text/html": [
              "<div>\n",
              "<style scoped>\n",
              "    .dataframe tbody tr th:only-of-type {\n",
              "        vertical-align: middle;\n",
              "    }\n",
              "\n",
              "    .dataframe tbody tr th {\n",
              "        vertical-align: top;\n",
              "    }\n",
              "\n",
              "    .dataframe thead th {\n",
              "        text-align: right;\n",
              "    }\n",
              "</style>\n",
              "<table border=\"1\" class=\"dataframe\">\n",
              "  <thead>\n",
              "    <tr style=\"text-align: right;\">\n",
              "      <th></th>\n",
              "      <th>1962</th>\n",
              "      <th>1967</th>\n",
              "      <th>1972</th>\n",
              "      <th>1977</th>\n",
              "      <th>1982</th>\n",
              "      <th>1987</th>\n",
              "      <th>1992</th>\n",
              "      <th>1997</th>\n",
              "      <th>2002</th>\n",
              "      <th>2007</th>\n",
              "      <th>2012</th>\n",
              "      <th>2014</th>\n",
              "      <th>2017</th>\n",
              "    </tr>\n",
              "  </thead>\n",
              "  <tbody>\n",
              "    <tr>\n",
              "      <th>count</th>\n",
              "      <td>197.000000</td>\n",
              "      <td>197.000000</td>\n",
              "      <td>198.000000</td>\n",
              "      <td>198.000000</td>\n",
              "      <td>198.000000</td>\n",
              "      <td>198.000000</td>\n",
              "      <td>220.000000</td>\n",
              "      <td>225.000000</td>\n",
              "      <td>2.270000e+02</td>\n",
              "      <td>2.280000e+02</td>\n",
              "      <td>228.000000</td>\n",
              "      <td>1.000000</td>\n",
              "      <td>227.000000</td>\n",
              "    </tr>\n",
              "    <tr>\n",
              "      <th>mean</th>\n",
              "      <td>39691.071342</td>\n",
              "      <td>35360.823620</td>\n",
              "      <td>32218.536111</td>\n",
              "      <td>29325.995708</td>\n",
              "      <td>26666.949630</td>\n",
              "      <td>24325.115022</td>\n",
              "      <td>20848.417820</td>\n",
              "      <td>18785.620435</td>\n",
              "      <td>6.439801e+04</td>\n",
              "      <td>6.292416e+04</td>\n",
              "      <td>15005.687546</td>\n",
              "      <td>194.565675</td>\n",
              "      <td>14101.975250</td>\n",
              "    </tr>\n",
              "    <tr>\n",
              "      <th>std</th>\n",
              "      <td>93957.420653</td>\n",
              "      <td>84644.955100</td>\n",
              "      <td>78072.869462</td>\n",
              "      <td>72480.774352</td>\n",
              "      <td>67685.172606</td>\n",
              "      <td>63726.352537</td>\n",
              "      <td>56987.824382</td>\n",
              "      <td>53428.246812</td>\n",
              "      <td>7.076280e+05</td>\n",
              "      <td>7.066086e+05</td>\n",
              "      <td>45271.266142</td>\n",
              "      <td>NaN</td>\n",
              "      <td>42686.354450</td>\n",
              "    </tr>\n",
              "    <tr>\n",
              "      <th>min</th>\n",
              "      <td>0.000000</td>\n",
              "      <td>0.000000</td>\n",
              "      <td>0.000000</td>\n",
              "      <td>0.000000</td>\n",
              "      <td>0.000000</td>\n",
              "      <td>0.000000</td>\n",
              "      <td>7.646926</td>\n",
              "      <td>0.000000</td>\n",
              "      <td>0.000000e+00</td>\n",
              "      <td>0.000000e+00</td>\n",
              "      <td>0.000000</td>\n",
              "      <td>194.565675</td>\n",
              "      <td>0.000000</td>\n",
              "    </tr>\n",
              "    <tr>\n",
              "      <th>25%</th>\n",
              "      <td>2897.578359</td>\n",
              "      <td>2564.946388</td>\n",
              "      <td>2399.116774</td>\n",
              "      <td>2216.459213</td>\n",
              "      <td>2010.339925</td>\n",
              "      <td>1856.413693</td>\n",
              "      <td>1688.306525</td>\n",
              "      <td>1511.543363</td>\n",
              "      <td>1.376974e+03</td>\n",
              "      <td>1.264143e+03</td>\n",
              "      <td>1159.751875</td>\n",
              "      <td>194.565675</td>\n",
              "      <td>1067.558002</td>\n",
              "    </tr>\n",
              "    <tr>\n",
              "      <th>50%</th>\n",
              "      <td>7885.871166</td>\n",
              "      <td>7031.870782</td>\n",
              "      <td>6488.940105</td>\n",
              "      <td>6217.288588</td>\n",
              "      <td>5664.972221</td>\n",
              "      <td>4975.607995</td>\n",
              "      <td>4883.692755</td>\n",
              "      <td>4196.445835</td>\n",
              "      <td>4.330724e+03</td>\n",
              "      <td>3.862790e+03</td>\n",
              "      <td>3526.840514</td>\n",
              "      <td>194.565675</td>\n",
              "      <td>3361.771700</td>\n",
              "    </tr>\n",
              "    <tr>\n",
              "      <th>75%</th>\n",
              "      <td>28585.435702</td>\n",
              "      <td>25631.065405</td>\n",
              "      <td>24235.611937</td>\n",
              "      <td>22503.339680</td>\n",
              "      <td>21571.593906</td>\n",
              "      <td>19912.703422</td>\n",
              "      <td>13837.505336</td>\n",
              "      <td>13336.341722</td>\n",
              "      <td>1.291910e+04</td>\n",
              "      <td>1.166662e+04</td>\n",
              "      <td>10099.787446</td>\n",
              "      <td>194.565675</td>\n",
              "      <td>9920.276716</td>\n",
              "    </tr>\n",
              "    <tr>\n",
              "      <th>max</th>\n",
              "      <td>932129.971817</td>\n",
              "      <td>855341.608344</td>\n",
              "      <td>812864.294697</td>\n",
              "      <td>766459.722542</td>\n",
              "      <td>726930.642265</td>\n",
              "      <td>691453.231324</td>\n",
              "      <td>651198.780343</td>\n",
              "      <td>627010.120681</td>\n",
              "      <td>1.065202e+07</td>\n",
              "      <td>1.066219e+07</td>\n",
              "      <td>530063.981841</td>\n",
              "      <td>194.565675</td>\n",
              "      <td>495049.504950</td>\n",
              "    </tr>\n",
              "  </tbody>\n",
              "</table>\n",
              "</div>"
            ],
            "text/plain": [
              "                1962           1967  ...        2014           2017\n",
              "count     197.000000     197.000000  ...    1.000000     227.000000\n",
              "mean    39691.071342   35360.823620  ...  194.565675   14101.975250\n",
              "std     93957.420653   84644.955100  ...         NaN   42686.354450\n",
              "min         0.000000       0.000000  ...  194.565675       0.000000\n",
              "25%      2897.578359    2564.946388  ...  194.565675    1067.558002\n",
              "50%      7885.871166    7031.870782  ...  194.565675    3361.771700\n",
              "75%     28585.435702   25631.065405  ...  194.565675    9920.276716\n",
              "max    932129.971817  855341.608344  ...  194.565675  495049.504950\n",
              "\n",
              "[8 rows x 13 columns]"
            ]
          },
          "metadata": {
            "tags": []
          },
          "execution_count": 16
        }
      ]
    },
    {
      "cell_type": "markdown",
      "metadata": {
        "id": "KPAJVa_Yskbf"
      },
      "source": [
        "As we can see, there is only one row in 2014. So the right think to do is to remove it."
      ]
    },
    {
      "cell_type": "code",
      "metadata": {
        "id": "G0ryiDIysvMZ"
      },
      "source": [
        "rifr = rifr.drop(['2014'], axis=1)"
      ],
      "execution_count": null,
      "outputs": []
    },
    {
      "cell_type": "code",
      "metadata": {
        "colab": {
          "base_uri": "https://localhost:8080/",
          "height": 294
        },
        "id": "8kzfp2XGsz3u",
        "outputId": "ca03f3e0-1a0e-4a0b-8629-dd97bc8a264c"
      },
      "source": [
        "rifr.describe()"
      ],
      "execution_count": null,
      "outputs": [
        {
          "output_type": "execute_result",
          "data": {
            "text/html": [
              "<div>\n",
              "<style scoped>\n",
              "    .dataframe tbody tr th:only-of-type {\n",
              "        vertical-align: middle;\n",
              "    }\n",
              "\n",
              "    .dataframe tbody tr th {\n",
              "        vertical-align: top;\n",
              "    }\n",
              "\n",
              "    .dataframe thead th {\n",
              "        text-align: right;\n",
              "    }\n",
              "</style>\n",
              "<table border=\"1\" class=\"dataframe\">\n",
              "  <thead>\n",
              "    <tr style=\"text-align: right;\">\n",
              "      <th></th>\n",
              "      <th>1962</th>\n",
              "      <th>1967</th>\n",
              "      <th>1972</th>\n",
              "      <th>1977</th>\n",
              "      <th>1982</th>\n",
              "      <th>1987</th>\n",
              "      <th>1992</th>\n",
              "      <th>1997</th>\n",
              "      <th>2002</th>\n",
              "      <th>2007</th>\n",
              "      <th>2012</th>\n",
              "      <th>2017</th>\n",
              "    </tr>\n",
              "  </thead>\n",
              "  <tbody>\n",
              "    <tr>\n",
              "      <th>count</th>\n",
              "      <td>197.000000</td>\n",
              "      <td>197.000000</td>\n",
              "      <td>198.000000</td>\n",
              "      <td>198.000000</td>\n",
              "      <td>198.000000</td>\n",
              "      <td>198.000000</td>\n",
              "      <td>220.000000</td>\n",
              "      <td>225.000000</td>\n",
              "      <td>2.270000e+02</td>\n",
              "      <td>2.280000e+02</td>\n",
              "      <td>228.000000</td>\n",
              "      <td>227.000000</td>\n",
              "    </tr>\n",
              "    <tr>\n",
              "      <th>mean</th>\n",
              "      <td>39691.071342</td>\n",
              "      <td>35360.823620</td>\n",
              "      <td>32218.536111</td>\n",
              "      <td>29325.995708</td>\n",
              "      <td>26666.949630</td>\n",
              "      <td>24325.115022</td>\n",
              "      <td>20848.417820</td>\n",
              "      <td>18785.620435</td>\n",
              "      <td>6.439801e+04</td>\n",
              "      <td>6.292416e+04</td>\n",
              "      <td>15005.687546</td>\n",
              "      <td>14101.975250</td>\n",
              "    </tr>\n",
              "    <tr>\n",
              "      <th>std</th>\n",
              "      <td>93957.420653</td>\n",
              "      <td>84644.955100</td>\n",
              "      <td>78072.869462</td>\n",
              "      <td>72480.774352</td>\n",
              "      <td>67685.172606</td>\n",
              "      <td>63726.352537</td>\n",
              "      <td>56987.824382</td>\n",
              "      <td>53428.246812</td>\n",
              "      <td>7.076280e+05</td>\n",
              "      <td>7.066086e+05</td>\n",
              "      <td>45271.266142</td>\n",
              "      <td>42686.354450</td>\n",
              "    </tr>\n",
              "    <tr>\n",
              "      <th>min</th>\n",
              "      <td>0.000000</td>\n",
              "      <td>0.000000</td>\n",
              "      <td>0.000000</td>\n",
              "      <td>0.000000</td>\n",
              "      <td>0.000000</td>\n",
              "      <td>0.000000</td>\n",
              "      <td>7.646926</td>\n",
              "      <td>0.000000</td>\n",
              "      <td>0.000000e+00</td>\n",
              "      <td>0.000000e+00</td>\n",
              "      <td>0.000000</td>\n",
              "      <td>0.000000</td>\n",
              "    </tr>\n",
              "    <tr>\n",
              "      <th>25%</th>\n",
              "      <td>2897.578359</td>\n",
              "      <td>2564.946388</td>\n",
              "      <td>2399.116774</td>\n",
              "      <td>2216.459213</td>\n",
              "      <td>2010.339925</td>\n",
              "      <td>1856.413693</td>\n",
              "      <td>1688.306525</td>\n",
              "      <td>1511.543363</td>\n",
              "      <td>1.376974e+03</td>\n",
              "      <td>1.264143e+03</td>\n",
              "      <td>1159.751875</td>\n",
              "      <td>1067.558002</td>\n",
              "    </tr>\n",
              "    <tr>\n",
              "      <th>50%</th>\n",
              "      <td>7885.871166</td>\n",
              "      <td>7031.870782</td>\n",
              "      <td>6488.940105</td>\n",
              "      <td>6217.288588</td>\n",
              "      <td>5664.972221</td>\n",
              "      <td>4975.607995</td>\n",
              "      <td>4883.692755</td>\n",
              "      <td>4196.445835</td>\n",
              "      <td>4.330724e+03</td>\n",
              "      <td>3.862790e+03</td>\n",
              "      <td>3526.840514</td>\n",
              "      <td>3361.771700</td>\n",
              "    </tr>\n",
              "    <tr>\n",
              "      <th>75%</th>\n",
              "      <td>28585.435702</td>\n",
              "      <td>25631.065405</td>\n",
              "      <td>24235.611937</td>\n",
              "      <td>22503.339680</td>\n",
              "      <td>21571.593906</td>\n",
              "      <td>19912.703422</td>\n",
              "      <td>13837.505336</td>\n",
              "      <td>13336.341722</td>\n",
              "      <td>1.291910e+04</td>\n",
              "      <td>1.166662e+04</td>\n",
              "      <td>10099.787446</td>\n",
              "      <td>9920.276716</td>\n",
              "    </tr>\n",
              "    <tr>\n",
              "      <th>max</th>\n",
              "      <td>932129.971817</td>\n",
              "      <td>855341.608344</td>\n",
              "      <td>812864.294697</td>\n",
              "      <td>766459.722542</td>\n",
              "      <td>726930.642265</td>\n",
              "      <td>691453.231324</td>\n",
              "      <td>651198.780343</td>\n",
              "      <td>627010.120681</td>\n",
              "      <td>1.065202e+07</td>\n",
              "      <td>1.066219e+07</td>\n",
              "      <td>530063.981841</td>\n",
              "      <td>495049.504950</td>\n",
              "    </tr>\n",
              "  </tbody>\n",
              "</table>\n",
              "</div>"
            ],
            "text/plain": [
              "                1962           1967  ...           2012           2017\n",
              "count     197.000000     197.000000  ...     228.000000     227.000000\n",
              "mean    39691.071342   35360.823620  ...   15005.687546   14101.975250\n",
              "std     93957.420653   84644.955100  ...   45271.266142   42686.354450\n",
              "min         0.000000       0.000000  ...       0.000000       0.000000\n",
              "25%      2897.578359    2564.946388  ...    1159.751875    1067.558002\n",
              "50%      7885.871166    7031.870782  ...    3526.840514    3361.771700\n",
              "75%     28585.435702   25631.065405  ...   10099.787446    9920.276716\n",
              "max    932129.971817  855341.608344  ...  530063.981841  495049.504950\n",
              "\n",
              "[8 rows x 12 columns]"
            ]
          },
          "metadata": {
            "tags": []
          },
          "execution_count": 18
        }
      ]
    },
    {
      "cell_type": "markdown",
      "metadata": {
        "id": "05syQT8ktOYJ"
      },
      "source": [
        "At first glance, the two years 2002 and 2007 have higher values than the other years."
      ]
    },
    {
      "cell_type": "code",
      "metadata": {
        "id": "fvOZ5EhZU-7-"
      },
      "source": [
        "mean_rifr = rifr.mean(axis=0,skipna=True)"
      ],
      "execution_count": null,
      "outputs": []
    },
    {
      "cell_type": "code",
      "metadata": {
        "colab": {
          "base_uri": "https://localhost:8080/"
        },
        "id": "_6PWqx47Zqi2",
        "outputId": "ddc59961-1c41-4ba3-a8b9-69faf7a1554b"
      },
      "source": [
        "mean_rifr"
      ],
      "execution_count": null,
      "outputs": [
        {
          "output_type": "execute_result",
          "data": {
            "text/plain": [
              "1962    39691.071342\n",
              "1967    35360.823620\n",
              "1972    32218.536111\n",
              "1977    29325.995708\n",
              "1982    26666.949630\n",
              "1987    24325.115022\n",
              "1992    20848.417820\n",
              "1997    18785.620435\n",
              "2002    64398.013987\n",
              "2007    62924.161007\n",
              "2012    15005.687546\n",
              "2017    14101.975250\n",
              "dtype: float64"
            ]
          },
          "metadata": {
            "tags": []
          },
          "execution_count": 20
        }
      ]
    },
    {
      "cell_type": "markdown",
      "metadata": {
        "id": "c_yYCmIJbK5Y"
      },
      "source": [
        "když nenahradím načka dělá to bordel v průměrech. Musím je něčím nahradit"
      ]
    },
    {
      "cell_type": "markdown",
      "metadata": {
        "id": "0lMFgFcCd23U"
      },
      "source": [
        "Let´s have a look at data visualizing them"
      ]
    },
    {
      "cell_type": "code",
      "metadata": {
        "colab": {
          "base_uri": "https://localhost:8080/",
          "height": 264
        },
        "id": "xrXYuvX8d2iP",
        "outputId": "cac5b730-1668-4577-9de4-53216ed47070"
      },
      "source": [
        "import matplotlib.pyplot as plt\n",
        "plt.plot( mean_rifr )\n",
        "plt.show()"
      ],
      "execution_count": null,
      "outputs": [
        {
          "output_type": "display_data",
          "data": {
            "image/png": "[encoded data removed]",
            "text/plain": [
              "<Figure size 432x288 with 1 Axes>"
            ]
          },
          "metadata": {
            "tags": [],
            "needs_background": "light"
          }
        }
      ]
    },
    {
      "cell_type": "code",
      "metadata": {
        "colab": {
          "base_uri": "https://localhost:8080/",
          "height": 202
        },
        "id": "EE5VMD2WSS8h",
        "outputId": "aae176af-cbf2-48d2-e292-962d42bae6d8"
      },
      "source": [
        "rifr_sorted = rifr.sort_values(['2007', '2012'], ascending=(False, False))\n",
        "rifr_sorted.head()"
      ],
      "execution_count": null,
      "outputs": [
        {
          "output_type": "execute_result",
          "data": {
            "text/html": [
              "<div>\n",
              "<style scoped>\n",
              "    .dataframe tbody tr th:only-of-type {\n",
              "        vertical-align: middle;\n",
              "    }\n",
              "\n",
              "    .dataframe tbody tr th {\n",
              "        vertical-align: top;\n",
              "    }\n",
              "\n",
              "    .dataframe thead th {\n",
              "        text-align: right;\n",
              "    }\n",
              "</style>\n",
              "<table border=\"1\" class=\"dataframe\">\n",
              "  <thead>\n",
              "    <tr style=\"text-align: right;\">\n",
              "      <th></th>\n",
              "      <th>Country Code</th>\n",
              "      <th>1962</th>\n",
              "      <th>1967</th>\n",
              "      <th>1972</th>\n",
              "      <th>1977</th>\n",
              "      <th>1982</th>\n",
              "      <th>1987</th>\n",
              "      <th>1992</th>\n",
              "      <th>1997</th>\n",
              "      <th>2002</th>\n",
              "      <th>2007</th>\n",
              "      <th>2012</th>\n",
              "      <th>2017</th>\n",
              "    </tr>\n",
              "  </thead>\n",
              "  <tbody>\n",
              "    <tr>\n",
              "      <th>89</th>\n",
              "      <td>GRL</td>\n",
              "      <td>NaN</td>\n",
              "      <td>NaN</td>\n",
              "      <td>NaN</td>\n",
              "      <td>NaN</td>\n",
              "      <td>NaN</td>\n",
              "      <td>NaN</td>\n",
              "      <td>NaN</td>\n",
              "      <td>NaN</td>\n",
              "      <td>1.065202e+07</td>\n",
              "      <td>1.066219e+07</td>\n",
              "      <td>NaN</td>\n",
              "      <td>NaN</td>\n",
              "    </tr>\n",
              "    <tr>\n",
              "      <th>112</th>\n",
              "      <td>ISL</td>\n",
              "      <td>932129.971817</td>\n",
              "      <td>855341.608344</td>\n",
              "      <td>812864.294697</td>\n",
              "      <td>766459.722542</td>\n",
              "      <td>726930.642265</td>\n",
              "      <td>691453.231324</td>\n",
              "      <td>651198.780343</td>\n",
              "      <td>627010.120681</td>\n",
              "      <td>5.912570e+05</td>\n",
              "      <td>5.456308e+05</td>\n",
              "      <td>530063.981841</td>\n",
              "      <td>495049.504950</td>\n",
              "    </tr>\n",
              "    <tr>\n",
              "      <th>92</th>\n",
              "      <td>GUY</td>\n",
              "      <td>397502.824579</td>\n",
              "      <td>356576.920744</td>\n",
              "      <td>333819.056220</td>\n",
              "      <td>316097.079840</td>\n",
              "      <td>308481.579426</td>\n",
              "      <td>318173.656805</td>\n",
              "      <td>321933.417223</td>\n",
              "      <td>317954.536459</td>\n",
              "      <td>3.235816e+05</td>\n",
              "      <td>3.228512e+05</td>\n",
              "      <td>319036.694515</td>\n",
              "      <td>310879.091253</td>\n",
              "    </tr>\n",
              "    <tr>\n",
              "      <th>218</th>\n",
              "      <td>SUR</td>\n",
              "      <td>325771.486110</td>\n",
              "      <td>284750.325737</td>\n",
              "      <td>269089.742788</td>\n",
              "      <td>276807.708116</td>\n",
              "      <td>274293.693739</td>\n",
              "      <td>259820.015589</td>\n",
              "      <td>235345.577643</td>\n",
              "      <td>217982.451312</td>\n",
              "      <td>2.052971e+05</td>\n",
              "      <td>1.936692e+05</td>\n",
              "      <td>182910.944541</td>\n",
              "      <td>173531.685308</td>\n",
              "    </tr>\n",
              "    <tr>\n",
              "      <th>187</th>\n",
              "      <td>PNG</td>\n",
              "      <td>342256.207613</td>\n",
              "      <td>308454.186274</td>\n",
              "      <td>274490.008872</td>\n",
              "      <td>242533.760185</td>\n",
              "      <td>212552.371870</td>\n",
              "      <td>186601.804097</td>\n",
              "      <td>165625.322437</td>\n",
              "      <td>147063.116515</td>\n",
              "      <td>1.313412e+05</td>\n",
              "      <td>1.176468e+05</td>\n",
              "      <td>104966.556161</td>\n",
              "      <td>94927.381738</td>\n",
              "    </tr>\n",
              "  </tbody>\n",
              "</table>\n",
              "</div>"
            ],
            "text/plain": [
              "    Country Code           1962  ...           2012           2017\n",
              "89           GRL            NaN  ...            NaN            NaN\n",
              "112          ISL  932129.971817  ...  530063.981841  495049.504950\n",
              "92           GUY  397502.824579  ...  319036.694515  310879.091253\n",
              "218          SUR  325771.486110  ...  182910.944541  173531.685308\n",
              "187          PNG  342256.207613  ...  104966.556161   94927.381738\n",
              "\n",
              "[5 rows x 13 columns]"
            ]
          },
          "metadata": {
            "tags": []
          },
          "execution_count": 22
        }
      ]
    },
    {
      "cell_type": "markdown",
      "metadata": {
        "id": "vI2pJNbbTyTE"
      },
      "source": [
        "As we can see, there is definitely an outlier in the row 89 for the two years 2002 and 2007. Let´s get rid of him."
      ]
    },
    {
      "cell_type": "code",
      "metadata": {
        "id": "yyYfoy0pUJFM"
      },
      "source": [
        "# Delete row with index label '89' \n",
        "rifr_modi = rifr.drop(index=89 )"
      ],
      "execution_count": null,
      "outputs": []
    },
    {
      "cell_type": "code",
      "metadata": {
        "colab": {
          "base_uri": "https://localhost:8080/",
          "height": 294
        },
        "id": "k-9agdygUjd3",
        "outputId": "d3d94434-8fbd-4682-9d81-9c741294e6ca"
      },
      "source": [
        "rifr_modi.describe()"
      ],
      "execution_count": null,
      "outputs": [
        {
          "output_type": "execute_result",
          "data": {
            "text/html": [
              "<div>\n",
              "<style scoped>\n",
              "    .dataframe tbody tr th:only-of-type {\n",
              "        vertical-align: middle;\n",
              "    }\n",
              "\n",
              "    .dataframe tbody tr th {\n",
              "        vertical-align: top;\n",
              "    }\n",
              "\n",
              "    .dataframe thead th {\n",
              "        text-align: right;\n",
              "    }\n",
              "</style>\n",
              "<table border=\"1\" class=\"dataframe\">\n",
              "  <thead>\n",
              "    <tr style=\"text-align: right;\">\n",
              "      <th></th>\n",
              "      <th>1962</th>\n",
              "      <th>1967</th>\n",
              "      <th>1972</th>\n",
              "      <th>1977</th>\n",
              "      <th>1982</th>\n",
              "      <th>1987</th>\n",
              "      <th>1992</th>\n",
              "      <th>1997</th>\n",
              "      <th>2002</th>\n",
              "      <th>2007</th>\n",
              "      <th>2012</th>\n",
              "      <th>2017</th>\n",
              "    </tr>\n",
              "  </thead>\n",
              "  <tbody>\n",
              "    <tr>\n",
              "      <th>count</th>\n",
              "      <td>197.000000</td>\n",
              "      <td>197.000000</td>\n",
              "      <td>198.000000</td>\n",
              "      <td>198.000000</td>\n",
              "      <td>198.000000</td>\n",
              "      <td>198.000000</td>\n",
              "      <td>220.000000</td>\n",
              "      <td>225.000000</td>\n",
              "      <td>226.000000</td>\n",
              "      <td>227.000000</td>\n",
              "      <td>228.000000</td>\n",
              "      <td>227.000000</td>\n",
              "    </tr>\n",
              "    <tr>\n",
              "      <th>mean</th>\n",
              "      <td>39691.071342</td>\n",
              "      <td>35360.823620</td>\n",
              "      <td>32218.536111</td>\n",
              "      <td>29325.995708</td>\n",
              "      <td>26666.949630</td>\n",
              "      <td>24325.115022</td>\n",
              "      <td>20848.417820</td>\n",
              "      <td>18785.620435</td>\n",
              "      <td>17550.144740</td>\n",
              "      <td>16231.372063</td>\n",
              "      <td>15005.687546</td>\n",
              "      <td>14101.975250</td>\n",
              "    </tr>\n",
              "    <tr>\n",
              "      <th>std</th>\n",
              "      <td>93957.420653</td>\n",
              "      <td>84644.955100</td>\n",
              "      <td>78072.869462</td>\n",
              "      <td>72480.774352</td>\n",
              "      <td>67685.172606</td>\n",
              "      <td>63726.352537</td>\n",
              "      <td>56987.824382</td>\n",
              "      <td>53428.246812</td>\n",
              "      <td>50463.192850</td>\n",
              "      <td>47074.835968</td>\n",
              "      <td>45271.266142</td>\n",
              "      <td>42686.354450</td>\n",
              "    </tr>\n",
              "    <tr>\n",
              "      <th>min</th>\n",
              "      <td>0.000000</td>\n",
              "      <td>0.000000</td>\n",
              "      <td>0.000000</td>\n",
              "      <td>0.000000</td>\n",
              "      <td>0.000000</td>\n",
              "      <td>0.000000</td>\n",
              "      <td>7.646926</td>\n",
              "      <td>0.000000</td>\n",
              "      <td>0.000000</td>\n",
              "      <td>0.000000</td>\n",
              "      <td>0.000000</td>\n",
              "      <td>0.000000</td>\n",
              "    </tr>\n",
              "    <tr>\n",
              "      <th>25%</th>\n",
              "      <td>2897.578359</td>\n",
              "      <td>2564.946388</td>\n",
              "      <td>2399.116774</td>\n",
              "      <td>2216.459213</td>\n",
              "      <td>2010.339925</td>\n",
              "      <td>1856.413693</td>\n",
              "      <td>1688.306525</td>\n",
              "      <td>1511.543363</td>\n",
              "      <td>1376.522413</td>\n",
              "      <td>1264.142861</td>\n",
              "      <td>1159.751875</td>\n",
              "      <td>1067.558002</td>\n",
              "    </tr>\n",
              "    <tr>\n",
              "      <th>50%</th>\n",
              "      <td>7885.871166</td>\n",
              "      <td>7031.870782</td>\n",
              "      <td>6488.940105</td>\n",
              "      <td>6217.288588</td>\n",
              "      <td>5664.972221</td>\n",
              "      <td>4975.607995</td>\n",
              "      <td>4883.692755</td>\n",
              "      <td>4196.445835</td>\n",
              "      <td>4176.479445</td>\n",
              "      <td>3816.941609</td>\n",
              "      <td>3526.840514</td>\n",
              "      <td>3361.771700</td>\n",
              "    </tr>\n",
              "    <tr>\n",
              "      <th>75%</th>\n",
              "      <td>28585.435702</td>\n",
              "      <td>25631.065405</td>\n",
              "      <td>24235.611937</td>\n",
              "      <td>22503.339680</td>\n",
              "      <td>21571.593906</td>\n",
              "      <td>19912.703422</td>\n",
              "      <td>13837.505336</td>\n",
              "      <td>13336.341722</td>\n",
              "      <td>12681.427221</td>\n",
              "      <td>11472.755596</td>\n",
              "      <td>10099.787446</td>\n",
              "      <td>9920.276716</td>\n",
              "    </tr>\n",
              "    <tr>\n",
              "      <th>max</th>\n",
              "      <td>932129.971817</td>\n",
              "      <td>855341.608344</td>\n",
              "      <td>812864.294697</td>\n",
              "      <td>766459.722542</td>\n",
              "      <td>726930.642265</td>\n",
              "      <td>691453.231324</td>\n",
              "      <td>651198.780343</td>\n",
              "      <td>627010.120681</td>\n",
              "      <td>591257.047262</td>\n",
              "      <td>545630.781279</td>\n",
              "      <td>530063.981841</td>\n",
              "      <td>495049.504950</td>\n",
              "    </tr>\n",
              "  </tbody>\n",
              "</table>\n",
              "</div>"
            ],
            "text/plain": [
              "                1962           1967  ...           2012           2017\n",
              "count     197.000000     197.000000  ...     228.000000     227.000000\n",
              "mean    39691.071342   35360.823620  ...   15005.687546   14101.975250\n",
              "std     93957.420653   84644.955100  ...   45271.266142   42686.354450\n",
              "min         0.000000       0.000000  ...       0.000000       0.000000\n",
              "25%      2897.578359    2564.946388  ...    1159.751875    1067.558002\n",
              "50%      7885.871166    7031.870782  ...    3526.840514    3361.771700\n",
              "75%     28585.435702   25631.065405  ...   10099.787446    9920.276716\n",
              "max    932129.971817  855341.608344  ...  530063.981841  495049.504950\n",
              "\n",
              "[8 rows x 12 columns]"
            ]
          },
          "metadata": {
            "tags": []
          },
          "execution_count": 24
        }
      ]
    },
    {
      "cell_type": "code",
      "metadata": {
        "id": "Ld18mKDpWC1-"
      },
      "source": [
        "rifr_modi_mean = rifr_modi.mean(axis=0)"
      ],
      "execution_count": null,
      "outputs": []
    },
    {
      "cell_type": "code",
      "metadata": {
        "colab": {
          "base_uri": "https://localhost:8080/",
          "height": 592
        },
        "id": "02fnYs8UWuh3",
        "outputId": "09b588a6-a522-49d4-f8c6-28d05def7037"
      },
      "source": [
        "import matplotlib.pyplot as plt\n",
        "plt.plot( rifr_modi_mean )\n",
        "plt.show()"
      ],
      "execution_count": null,
      "outputs": [
        {
          "output_type": "display_data",
          "data": {
            "image/png": "[encoded data removed]",
            "text/plain": [
              "<Figure size 720x720 with 1 Axes>"
            ]
          },
          "metadata": {
            "tags": [],
            "needs_background": "light"
          }
        }
      ]
    },
    {
      "cell_type": "markdown",
      "metadata": {
        "id": "4077ORXtya15"
      },
      "source": [
        "Let´s display it better"
      ]
    },
    {
      "cell_type": "code",
      "metadata": {
        "colab": {
          "base_uri": "https://localhost:8080/",
          "height": 752
        },
        "id": "4LLDDzt-ypWS",
        "outputId": "e7042c2c-9561-4525-b189-d8a9cbcf10ba"
      },
      "source": [
        "plt.figure(figsize=(22,12))\n",
        "plt.xlabel('Year', fontsize=20)\n",
        "plt.ylabel('Cubic meters', fontsize=20)\n",
        "plt.title('Renewable internal freshwater resources per capita', fontsize=30)\n",
        "plt.bar(rifr_modi_mean.index, rifr_modi_mean.values)\n",
        "plt.show()"
      ],
      "execution_count": null,
      "outputs": [
        {
          "output_type": "display_data",
          "data": {
            "image/png": "[encoded data removed]",
            "text/plain": [
              "<Figure size 1584x864 with 1 Axes>"
            ]
          },
          "metadata": {
            "tags": [],
            "needs_background": "light"
          }
        }
      ]
    },
    {
      "cell_type": "markdown",
      "metadata": {
        "id": "ALk5YB_WxlGr"
      },
      "source": [
        "Now, our dataset Renewable internal freshwater resources per capita = > rifr per capita is clean and ready for building a model. I decided to use linear  regression model. "
      ]
    },
    {
      "cell_type": "code",
      "metadata": {
        "id": "LMFu3ESlyWZg"
      },
      "source": [
        "import numpy as np\n",
        "from sklearn import datasets, linear_model\n",
        "from sklearn.metrics import mean_squared_error, r2_score\n",
        "# prepare X,y\n",
        "X = rifr_modi_mean.index.to_frame()\n",
        "y = rifr_modi_mean.values\n",
        "# Splitting the dataset into the Training set and Test set\n",
        "from sklearn.model_selection import train_test_split \n",
        "X_train, X_test, y_train, y_test = train_test_split(X, y, test_size=0.2, random_state=0)"
      ],
      "execution_count": null,
      "outputs": []
    },
    {
      "cell_type": "code",
      "metadata": {
        "colab": {
          "base_uri": "https://localhost:8080/",
          "height": 324
        },
        "id": "74dVgioG2trh",
        "outputId": "ab5788d4-6163-4d19-f2f8-95b5a02b91cf"
      },
      "source": [
        "X_train"
      ],
      "execution_count": null,
      "outputs": [
        {
          "output_type": "execute_result",
          "data": {
            "text/html": [
              "<div>\n",
              "<style scoped>\n",
              "    .dataframe tbody tr th:only-of-type {\n",
              "        vertical-align: middle;\n",
              "    }\n",
              "\n",
              "    .dataframe tbody tr th {\n",
              "        vertical-align: top;\n",
              "    }\n",
              "\n",
              "    .dataframe thead th {\n",
              "        text-align: right;\n",
              "    }\n",
              "</style>\n",
              "<table border=\"1\" class=\"dataframe\">\n",
              "  <thead>\n",
              "    <tr style=\"text-align: right;\">\n",
              "      <th></th>\n",
              "      <th>0</th>\n",
              "    </tr>\n",
              "  </thead>\n",
              "  <tbody>\n",
              "    <tr>\n",
              "      <th>2012</th>\n",
              "      <td>2012</td>\n",
              "    </tr>\n",
              "    <tr>\n",
              "      <th>1972</th>\n",
              "      <td>1972</td>\n",
              "    </tr>\n",
              "    <tr>\n",
              "      <th>2002</th>\n",
              "      <td>2002</td>\n",
              "    </tr>\n",
              "    <tr>\n",
              "      <th>1967</th>\n",
              "      <td>1967</td>\n",
              "    </tr>\n",
              "    <tr>\n",
              "      <th>1997</th>\n",
              "      <td>1997</td>\n",
              "    </tr>\n",
              "    <tr>\n",
              "      <th>2007</th>\n",
              "      <td>2007</td>\n",
              "    </tr>\n",
              "    <tr>\n",
              "      <th>1977</th>\n",
              "      <td>1977</td>\n",
              "    </tr>\n",
              "    <tr>\n",
              "      <th>1962</th>\n",
              "      <td>1962</td>\n",
              "    </tr>\n",
              "    <tr>\n",
              "      <th>1987</th>\n",
              "      <td>1987</td>\n",
              "    </tr>\n",
              "  </tbody>\n",
              "</table>\n",
              "</div>"
            ],
            "text/plain": [
              "         0\n",
              "2012  2012\n",
              "1972  1972\n",
              "2002  2002\n",
              "1967  1967\n",
              "1997  1997\n",
              "2007  2007\n",
              "1977  1977\n",
              "1962  1962\n",
              "1987  1987"
            ]
          },
          "metadata": {
            "tags": []
          },
          "execution_count": 103
        }
      ]
    },
    {
      "cell_type": "code",
      "metadata": {
        "colab": {
          "base_uri": "https://localhost:8080/",
          "height": 141
        },
        "id": "-SigwVwf77aJ",
        "outputId": "c52cca75-6a14-44df-be9a-ccb90a44a083"
      },
      "source": [
        "X_test"
      ],
      "execution_count": null,
      "outputs": [
        {
          "output_type": "execute_result",
          "data": {
            "text/html": [
              "<div>\n",
              "<style scoped>\n",
              "    .dataframe tbody tr th:only-of-type {\n",
              "        vertical-align: middle;\n",
              "    }\n",
              "\n",
              "    .dataframe tbody tr th {\n",
              "        vertical-align: top;\n",
              "    }\n",
              "\n",
              "    .dataframe thead th {\n",
              "        text-align: right;\n",
              "    }\n",
              "</style>\n",
              "<table border=\"1\" class=\"dataframe\">\n",
              "  <thead>\n",
              "    <tr style=\"text-align: right;\">\n",
              "      <th></th>\n",
              "      <th>0</th>\n",
              "    </tr>\n",
              "  </thead>\n",
              "  <tbody>\n",
              "    <tr>\n",
              "      <th>1992</th>\n",
              "      <td>1992</td>\n",
              "    </tr>\n",
              "    <tr>\n",
              "      <th>2017</th>\n",
              "      <td>2017</td>\n",
              "    </tr>\n",
              "    <tr>\n",
              "      <th>1982</th>\n",
              "      <td>1982</td>\n",
              "    </tr>\n",
              "  </tbody>\n",
              "</table>\n",
              "</div>"
            ],
            "text/plain": [
              "         0\n",
              "1992  1992\n",
              "2017  2017\n",
              "1982  1982"
            ]
          },
          "metadata": {
            "tags": []
          },
          "execution_count": 104
        }
      ]
    },
    {
      "cell_type": "code",
      "metadata": {
        "id": "o3i6IX_T_2sH"
      },
      "source": [
        "# Create linear regression object\n",
        "regr = linear_model.LinearRegression()"
      ],
      "execution_count": null,
      "outputs": []
    },
    {
      "cell_type": "code",
      "metadata": {
        "colab": {
          "base_uri": "https://localhost:8080/"
        },
        "id": "ZQvRIRBdGLHe",
        "outputId": "b2261e80-13df-427f-fc8a-0f87698e04b4"
      },
      "source": [
        "# Train the model using the training sets\n",
        "regr.fit(X_train, y_train)"
      ],
      "execution_count": null,
      "outputs": [
        {
          "output_type": "execute_result",
          "data": {
            "text/plain": [
              "LinearRegression(copy_X=True, fit_intercept=True, n_jobs=None, normalize=False)"
            ]
          },
          "metadata": {
            "tags": []
          },
          "execution_count": 106
        }
      ]
    },
    {
      "cell_type": "code",
      "metadata": {
        "id": "mG9lvsDqGVbJ"
      },
      "source": [
        "# Make predictions using the testing set\n",
        "y_pred = regr.predict(X_test)"
      ],
      "execution_count": null,
      "outputs": []
    },
    {
      "cell_type": "code",
      "metadata": {
        "colab": {
          "base_uri": "https://localhost:8080/"
        },
        "id": "u3ZPhBUjGuBR",
        "outputId": "9910391a-3cc9-4d2f-f631-5e6a2d03c1d0"
      },
      "source": [
        "# The coefficients\n",
        "print('Coefficients: \\n', regr.coef_)\n",
        "# The mean squared error\n",
        "print('Mean squared error: %.2f'\n",
        "      % mean_squared_error(y_test, y_pred))\n",
        "# The coefficient of determination: 1 is perfect prediction\n",
        "print('Coefficient of determination: %.2f'\n",
        "      % r2_score(y_test, y_pred))"
      ],
      "execution_count": null,
      "outputs": [
        {
          "output_type": "stream",
          "text": [
            "Coefficients: \n",
            " [-490.79749977]\n",
            "Mean squared error: 5849828.08\n",
            "Coefficient of determination: 0.78\n"
          ],
          "name": "stdout"
        }
      ]
    },
    {
      "cell_type": "code",
      "metadata": {
        "id": "baI_TXXjG_mC"
      },
      "source": [
        " from numpy import array\n",
        "# Plot outputs\n",
        "#plt.scatter(X_test, y_test, color='black')\n",
        "#plt.plot(X_test, y_pred, color='blue', linewidth=3)\n",
        "\n",
        "plt.xticks(())\n",
        "plt.yticks(())\n",
        "\n",
        "plt.show()\n"
      ],
      "execution_count": null,
      "outputs": []
    },
    {
      "cell_type": "code",
      "metadata": {
        "id": "QR3Kir01HRZS"
      },
      "source": [
        "y_pred = model.predict(x)\n",
        "print('predicted response:', y_pred, sep='\\n')"
      ],
      "execution_count": null,
      "outputs": []
    }
  ]
}