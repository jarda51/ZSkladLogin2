{
  "nbformat": 4,
  "nbformat_minor": 0,
  "metadata": {
    "colab": {
      "name": "final_project.ipynb",
      "provenance": [],
      "collapsed_sections": [],
      "authorship_tag": "ABX9TyOVpDmZO32ey/F5N8+pOErq",
      "include_colab_link": true
    },
    "kernelspec": {
      "name": "python3",
      "display_name": "Python 3"
    },
    "language_info": {
      "name": "python"
    }
  },
  "cells": [
    {
      "cell_type": "markdown",
      "metadata": {
        "id": "view-in-github",
        "colab_type": "text"
      },
      "source": [
        "<a href=\"https://colab.research.google.com/github/jarda51/ZSkladLogin2/blob/master/final_project.ipynb\" target=\"_parent\"><img src=\"https://colab.research.google.com/assets/colab-badge.svg\" alt=\"Open In Colab\"/></a>"
      ]
    },
    {
      "cell_type": "code",
      "metadata": {
        "id": "XV4xNnR2ddNb",
        "colab": {
          "base_uri": "https://localhost:8080/"
        },
        "outputId": "fbb3f0df-d3ea-4e8d-ef86-dcf64c453375"
      },
      "source": [
        "#mount_my_drive\n",
        "from google.colab import drive\n",
        "drive.mount('/content/drive')"
      ],
      "execution_count": 2,
      "outputs": [
        {
          "output_type": "stream",
          "text": [
            "Drive already mounted at /content/drive; to attempt to forcibly remount, call drive.mount(\"/content/drive\", force_remount=True).\n"
          ],
          "name": "stdout"
        }
      ]
    },
    {
      "cell_type": "markdown",
      "metadata": {
        "id": "Y0KyRqgvsDnr"
      },
      "source": [
        "<p style=\"font-family: Arial; font-size:1.75em;color:#2462C0; font-style:bold\">\n",
        "Case Study: Freshwater per capita, a time bomb??? </p>\n",
        "<br>Tady se dej ty počáteční bláboly a pořádně připrav!!!!!!!!!!!!!!!!!!!!!!!!!!!!!!!!!!!!!!!!!!!!!!!!!!!!!!!!!!!!!!!!!!!!!!. \n",
        "\n",
        "## Download the Dataset\n",
        "\n",
        "### Please note that **you will need to download the dataset**. \n",
        "\n",
        "Although the video for this notebook says that the data is in your folder, the folder turned out to be too large to fit on the edX platform due to size constraints.\n",
        "\n",
        "Here are the links to the data source and location:\n",
        "* **Data Source:** MovieLens web site (filename: ml-25m.zip)\n",
        "* **Location:** https://grouplens.org/datasets/movielens/\n",
        "\n",
        "Once the download completes, please make sure the data files are in a directory called **movielens** in your **Week-4-pandas** folder. \n",
        "\n",
        "Let us look at the files in this dataset using the UNIX command ls."
      ]
    },
    {
      "cell_type": "code",
      "metadata": {
        "id": "vcpDwAcGj67S"
      },
      "source": [
        "# Renewable internal freshwater resources per capita = > rifr per capita"
      ],
      "execution_count": 357,
      "outputs": []
    },
    {
      "cell_type": "code",
      "metadata": {
        "colab": {
          "base_uri": "https://localhost:8080/"
        },
        "id": "ZsnDHa0Upggf",
        "outputId": "92b0b3b1-fadd-4fc4-9483-c44438214338"
      },
      "source": [
        "!head -10  './drive/MyDrive/ColabNotebooks/final_project/Renewable internal freshwater resources per capita/API_ER.H2O.INTR.PC_DS2_en_csv_v2_2456313.csv'"
      ],
      "execution_count": 358,
      "outputs": [
        {
          "output_type": "stream",
          "text": [
            "﻿\"Data Source\",\"World Development Indicators\",\r\n",
            "\r\n",
            "\"Last Updated Date\",\"2021-05-25\",\r\n",
            "\r\n",
            "\"Country Name\",\"Country Code\",\"Indicator Name\",\"Indicator Code\",\"1960\",\"1961\",\"1962\",\"1963\",\"1964\",\"1965\",\"1966\",\"1967\",\"1968\",\"1969\",\"1970\",\"1971\",\"1972\",\"1973\",\"1974\",\"1975\",\"1976\",\"1977\",\"1978\",\"1979\",\"1980\",\"1981\",\"1982\",\"1983\",\"1984\",\"1985\",\"1986\",\"1987\",\"1988\",\"1989\",\"1990\",\"1991\",\"1992\",\"1993\",\"1994\",\"1995\",\"1996\",\"1997\",\"1998\",\"1999\",\"2000\",\"2001\",\"2002\",\"2003\",\"2004\",\"2005\",\"2006\",\"2007\",\"2008\",\"2009\",\"2010\",\"2011\",\"2012\",\"2013\",\"2014\",\"2015\",\"2016\",\"2017\",\"2018\",\"2019\",\"2020\",\r\n",
            "\"Aruba\",\"ABW\",\"Renewable internal freshwater resources per capita (cubic meters)\",\"ER.H2O.INTR.PC\",\"\",\"\",\"\",\"\",\"\",\"\",\"\",\"\",\"\",\"\",\"\",\"\",\"\",\"\",\"\",\"\",\"\",\"\",\"\",\"\",\"\",\"\",\"\",\"\",\"\",\"\",\"\",\"\",\"\",\"\",\"\",\"\",\"\",\"\",\"\",\"\",\"\",\"\",\"\",\"\",\"\",\"\",\"\",\"\",\"\",\"\",\"\",\"\",\"\",\"\",\"\",\"\",\"\",\"\",\"\",\"\",\"\",\"\",\"\",\"\",\"\",\r\n",
            "\"Afghanistan\",\"AFG\",\"Renewable internal freshwater resources per capita (cubic meters)\",\"ER.H2O.INTR.PC\",\"\",\"\",\"5042.00368691841\",\"\",\"\",\"\",\"\",\"4533.68610507421\",\"\",\"\",\"\",\"\",\"3998.739739713\",\"\",\"\",\"\",\"\",\"3579.75131699165\",\"\",\"\",\"\",\"\",\"3659.9959262654\",\"\",\"\",\"\",\"\",\"4063.06707361106\",\"\",\"\",\"\",\"\",\"3254.96878060378\",\"\",\"\",\"\",\"\",\"2435.79547914293\",\"\",\"\",\"\",\"\",\"2086.21210693264\",\"\",\"\",\"\",\"\",\"1739.81798736379\",\"\",\"\",\"\",\"\",\"1513.09107787795\",\"\",\"\",\"\",\"\",\"1299.02690073947\",\"\",\"\",\"\",\r\n",
            "\"Angola\",\"AGO\",\"Renewable internal freshwater resources per capita (cubic meters)\",\"ER.H2O.INTR.PC\",\"\",\"\",\"26388.3339315283\",\"\",\"\",\"\",\"\",\"25631.0654054566\",\"\",\"\",\"\",\"\",\"23685.4874537333\",\"\",\"\",\"\",\"\",\"19644.9702571168\",\"\",\"\",\"\",\"\",\"16530.8641285833\",\"\",\"\",\"\",\"\",\"13845.6860864888\",\"\",\"\",\"\",\"\",\"11692.7961157163\",\"\",\"\",\"\",\"\",\"9951.87461713861\",\"\",\"\",\"\",\"\",\"8447.7696946194\",\"\",\"\",\"\",\"\",\"7079.52308697055\",\"\",\"\",\"\",\"\",\"5894.55180516467\",\"\",\"\",\"\",\"\",\"4963.65331323188\",\"\",\"\",\"\",\r\n",
            "\"Albania\",\"ALB\",\"Renewable internal freshwater resources per capita (cubic meters)\",\"ER.H2O.INTR.PC\",\"\",\"\",\"15718.869480208\",\"\",\"\",\"\",\"\",\"13685.4026102998\",\"\",\"\",\"\",\"\",\"11992.1930377518\",\"\",\"\",\"\",\"\",\"10702.0122170034\",\"\",\"\",\"\",\"\",\"9661.39157081297\",\"\",\"\",\"\",\"\",\"8723.55570833489\",\"\",\"\",\"\",\"\",\"8284.47086715004\",\"\",\"\",\"\",\"\",\"8544.34531098082\",\"\",\"\",\"\",\"\",\"8816.75248524259\",\"\",\"\",\"\",\"\",\"9057.18721475332\",\"\",\"\",\"\",\"\",\"9274.57961847344\",\"\",\"\",\"\",\"\",\"9361.54604018783\",\"\",\"\",\"\",\r\n",
            "\"Andorra\",\"AND\",\"Renewable internal freshwater resources per capita (cubic meters)\",\"ER.H2O.INTR.PC\",\"\",\"\",\"20533.5068314899\",\"\",\"\",\"\",\"\",\"15203.7768571153\",\"\",\"\",\"\",\"\",\"11735.8322177599\",\"\",\"\",\"\",\"\",\"9630.46596075799\",\"\",\"\",\"\",\"\",\"8068.72219665593\",\"\",\"\",\"\",\"\",\"6513.25972551852\",\"\",\"\",\"\",\"\",\"5359.32617850836\",\"\",\"\",\"\",\"\",\"4906.1824739223\",\"\",\"\",\"\",\"\",\"4505.41763622607\",\"\",\"\",\"\",\"\",\"3816.94160901746\",\"\",\"\",\"\",\"\",\"3828.84249093137\",\"\",\"\",\"\",\"\",\"4098.64806950559\",\"\",\"\",\"\",\r\n"
          ],
          "name": "stdout"
        }
      ]
    },
    {
      "cell_type": "code",
      "metadata": {
        "id": "56nHnXSuDR53"
      },
      "source": [
        "!sed -e '1,4d' < './drive/MyDrive/ColabNotebooks/final_project/Renewable internal freshwater resources per capita/API_ER.H2O.INTR.PC_DS2_en_csv_v2_2456313.csv' > './drive/MyDrive/ColabNotebooks/final_project/rifr.csv'"
      ],
      "execution_count": 359,
      "outputs": []
    },
    {
      "cell_type": "code",
      "metadata": {
        "id": "gQt6kPoHENBi"
      },
      "source": [
        "import pandas as pd\n",
        "rifr = pd.read_csv('./drive/MyDrive/ColabNotebooks/final_project/rifr_cut.csv')"
      ],
      "execution_count": 360,
      "outputs": []
    },
    {
      "cell_type": "code",
      "metadata": {
        "colab": {
          "base_uri": "https://localhost:8080/"
        },
        "id": "MIULnS3miFTV",
        "outputId": "e2ce6b14-0a2b-44ca-97e0-a5965b0e5e42"
      },
      "source": [
        "rifr.shape"
      ],
      "execution_count": 361,
      "outputs": [
        {
          "output_type": "execute_result",
          "data": {
            "text/plain": [
              "(264, 66)"
            ]
          },
          "metadata": {
            "tags": []
          },
          "execution_count": 361
        }
      ]
    },
    {
      "cell_type": "markdown",
      "metadata": {
        "id": "11oGdTQmqp0e"
      },
      "source": [
        "What columns are there?"
      ]
    },
    {
      "cell_type": "code",
      "metadata": {
        "id": "fgRWxMINKMGG",
        "colab": {
          "base_uri": "https://localhost:8080/"
        },
        "outputId": "61b4723a-62bf-49e8-ff54-45cbdf453327"
      },
      "source": [
        "rifr.columns"
      ],
      "execution_count": 362,
      "outputs": [
        {
          "output_type": "execute_result",
          "data": {
            "text/plain": [
              "Index(['Country Name', 'Country Code', 'Indicator Name', 'Indicator Code',\n",
              "       '1960', '1961', '1962', '1963', '1964', '1965', '1966', '1967', '1968',\n",
              "       '1969', '1970', '1971', '1972', '1973', '1974', '1975', '1976', '1977',\n",
              "       '1978', '1979', '1980', '1981', '1982', '1983', '1984', '1985', '1986',\n",
              "       '1987', '1988', '1989', '1990', '1991', '1992', '1993', '1994', '1995',\n",
              "       '1996', '1997', '1998', '1999', '2000', '2001', '2002', '2003', '2004',\n",
              "       '2005', '2006', '2007', '2008', '2009', '2010', '2011', '2012', '2013',\n",
              "       '2014', '2015', '2016', '2017', '2018', '2019', '2020', 'Unnamed: 65'],\n",
              "      dtype='object')"
            ]
          },
          "metadata": {
            "tags": []
          },
          "execution_count": 362
        }
      ]
    },
    {
      "cell_type": "markdown",
      "metadata": {
        "id": "P2H6k6MKq3gB"
      },
      "source": [
        "Get rid of unecessary columns 'Country Name', 'Indicator Name', 'Indicator Code','Unnamed: 65'  and check it"
      ]
    },
    {
      "cell_type": "code",
      "metadata": {
        "colab": {
          "base_uri": "https://localhost:8080/"
        },
        "id": "ryU6p1PzTKFL",
        "outputId": "beaed6fb-08ab-4794-d252-2f9364df60fc"
      },
      "source": [
        "rifr = rifr.drop(['Country Name', 'Indicator Name', 'Indicator Code','Unnamed: 65'], axis=1)\n",
        "rifr.columns"
      ],
      "execution_count": 363,
      "outputs": [
        {
          "output_type": "execute_result",
          "data": {
            "text/plain": [
              "Index(['Country Code', '1960', '1961', '1962', '1963', '1964', '1965', '1966',\n",
              "       '1967', '1968', '1969', '1970', '1971', '1972', '1973', '1974', '1975',\n",
              "       '1976', '1977', '1978', '1979', '1980', '1981', '1982', '1983', '1984',\n",
              "       '1985', '1986', '1987', '1988', '1989', '1990', '1991', '1992', '1993',\n",
              "       '1994', '1995', '1996', '1997', '1998', '1999', '2000', '2001', '2002',\n",
              "       '2003', '2004', '2005', '2006', '2007', '2008', '2009', '2010', '2011',\n",
              "       '2012', '2013', '2014', '2015', '2016', '2017', '2018', '2019', '2020'],\n",
              "      dtype='object')"
            ]
          },
          "metadata": {
            "tags": []
          },
          "execution_count": 363
        }
      ]
    },
    {
      "cell_type": "markdown",
      "metadata": {
        "id": "7QDzw_UYrISw"
      },
      "source": [
        "Let´s see the head:"
      ]
    },
    {
      "cell_type": "code",
      "metadata": {
        "colab": {
          "base_uri": "https://localhost:8080/",
          "height": 238
        },
        "id": "7pr6-qSrrUtm",
        "outputId": "765f0838-ef7a-4602-b791-9822ea1c85dc"
      },
      "source": [
        "rifr.head()"
      ],
      "execution_count": 364,
      "outputs": [
        {
          "output_type": "execute_result",
          "data": {
            "text/html": [
              "<div>\n",
              "<style scoped>\n",
              "    .dataframe tbody tr th:only-of-type {\n",
              "        vertical-align: middle;\n",
              "    }\n",
              "\n",
              "    .dataframe tbody tr th {\n",
              "        vertical-align: top;\n",
              "    }\n",
              "\n",
              "    .dataframe thead th {\n",
              "        text-align: right;\n",
              "    }\n",
              "</style>\n",
              "<table border=\"1\" class=\"dataframe\">\n",
              "  <thead>\n",
              "    <tr style=\"text-align: right;\">\n",
              "      <th></th>\n",
              "      <th>Country Code</th>\n",
              "      <th>1960</th>\n",
              "      <th>1961</th>\n",
              "      <th>1962</th>\n",
              "      <th>1963</th>\n",
              "      <th>1964</th>\n",
              "      <th>1965</th>\n",
              "      <th>1966</th>\n",
              "      <th>1967</th>\n",
              "      <th>1968</th>\n",
              "      <th>1969</th>\n",
              "      <th>1970</th>\n",
              "      <th>1971</th>\n",
              "      <th>1972</th>\n",
              "      <th>1973</th>\n",
              "      <th>1974</th>\n",
              "      <th>1975</th>\n",
              "      <th>1976</th>\n",
              "      <th>1977</th>\n",
              "      <th>1978</th>\n",
              "      <th>1979</th>\n",
              "      <th>1980</th>\n",
              "      <th>1981</th>\n",
              "      <th>1982</th>\n",
              "      <th>1983</th>\n",
              "      <th>1984</th>\n",
              "      <th>1985</th>\n",
              "      <th>1986</th>\n",
              "      <th>1987</th>\n",
              "      <th>1988</th>\n",
              "      <th>1989</th>\n",
              "      <th>1990</th>\n",
              "      <th>1991</th>\n",
              "      <th>1992</th>\n",
              "      <th>1993</th>\n",
              "      <th>1994</th>\n",
              "      <th>1995</th>\n",
              "      <th>1996</th>\n",
              "      <th>1997</th>\n",
              "      <th>1998</th>\n",
              "      <th>1999</th>\n",
              "      <th>2000</th>\n",
              "      <th>2001</th>\n",
              "      <th>2002</th>\n",
              "      <th>2003</th>\n",
              "      <th>2004</th>\n",
              "      <th>2005</th>\n",
              "      <th>2006</th>\n",
              "      <th>2007</th>\n",
              "      <th>2008</th>\n",
              "      <th>2009</th>\n",
              "      <th>2010</th>\n",
              "      <th>2011</th>\n",
              "      <th>2012</th>\n",
              "      <th>2013</th>\n",
              "      <th>2014</th>\n",
              "      <th>2015</th>\n",
              "      <th>2016</th>\n",
              "      <th>2017</th>\n",
              "      <th>2018</th>\n",
              "      <th>2019</th>\n",
              "      <th>2020</th>\n",
              "    </tr>\n",
              "  </thead>\n",
              "  <tbody>\n",
              "    <tr>\n",
              "      <th>0</th>\n",
              "      <td>ABW</td>\n",
              "      <td>NaN</td>\n",
              "      <td>NaN</td>\n",
              "      <td>NaN</td>\n",
              "      <td>NaN</td>\n",
              "      <td>NaN</td>\n",
              "      <td>NaN</td>\n",
              "      <td>NaN</td>\n",
              "      <td>NaN</td>\n",
              "      <td>NaN</td>\n",
              "      <td>NaN</td>\n",
              "      <td>NaN</td>\n",
              "      <td>NaN</td>\n",
              "      <td>NaN</td>\n",
              "      <td>NaN</td>\n",
              "      <td>NaN</td>\n",
              "      <td>NaN</td>\n",
              "      <td>NaN</td>\n",
              "      <td>NaN</td>\n",
              "      <td>NaN</td>\n",
              "      <td>NaN</td>\n",
              "      <td>NaN</td>\n",
              "      <td>NaN</td>\n",
              "      <td>NaN</td>\n",
              "      <td>NaN</td>\n",
              "      <td>NaN</td>\n",
              "      <td>NaN</td>\n",
              "      <td>NaN</td>\n",
              "      <td>NaN</td>\n",
              "      <td>NaN</td>\n",
              "      <td>NaN</td>\n",
              "      <td>NaN</td>\n",
              "      <td>NaN</td>\n",
              "      <td>NaN</td>\n",
              "      <td>NaN</td>\n",
              "      <td>NaN</td>\n",
              "      <td>NaN</td>\n",
              "      <td>NaN</td>\n",
              "      <td>NaN</td>\n",
              "      <td>NaN</td>\n",
              "      <td>NaN</td>\n",
              "      <td>NaN</td>\n",
              "      <td>NaN</td>\n",
              "      <td>NaN</td>\n",
              "      <td>NaN</td>\n",
              "      <td>NaN</td>\n",
              "      <td>NaN</td>\n",
              "      <td>NaN</td>\n",
              "      <td>NaN</td>\n",
              "      <td>NaN</td>\n",
              "      <td>NaN</td>\n",
              "      <td>NaN</td>\n",
              "      <td>NaN</td>\n",
              "      <td>NaN</td>\n",
              "      <td>NaN</td>\n",
              "      <td>NaN</td>\n",
              "      <td>NaN</td>\n",
              "      <td>NaN</td>\n",
              "      <td>NaN</td>\n",
              "      <td>NaN</td>\n",
              "      <td>NaN</td>\n",
              "      <td>NaN</td>\n",
              "    </tr>\n",
              "    <tr>\n",
              "      <th>1</th>\n",
              "      <td>AFG</td>\n",
              "      <td>NaN</td>\n",
              "      <td>NaN</td>\n",
              "      <td>5042.003687</td>\n",
              "      <td>NaN</td>\n",
              "      <td>NaN</td>\n",
              "      <td>NaN</td>\n",
              "      <td>NaN</td>\n",
              "      <td>4533.686105</td>\n",
              "      <td>NaN</td>\n",
              "      <td>NaN</td>\n",
              "      <td>NaN</td>\n",
              "      <td>NaN</td>\n",
              "      <td>3998.739740</td>\n",
              "      <td>NaN</td>\n",
              "      <td>NaN</td>\n",
              "      <td>NaN</td>\n",
              "      <td>NaN</td>\n",
              "      <td>3579.751317</td>\n",
              "      <td>NaN</td>\n",
              "      <td>NaN</td>\n",
              "      <td>NaN</td>\n",
              "      <td>NaN</td>\n",
              "      <td>3659.995926</td>\n",
              "      <td>NaN</td>\n",
              "      <td>NaN</td>\n",
              "      <td>NaN</td>\n",
              "      <td>NaN</td>\n",
              "      <td>4063.067074</td>\n",
              "      <td>NaN</td>\n",
              "      <td>NaN</td>\n",
              "      <td>NaN</td>\n",
              "      <td>NaN</td>\n",
              "      <td>3254.968781</td>\n",
              "      <td>NaN</td>\n",
              "      <td>NaN</td>\n",
              "      <td>NaN</td>\n",
              "      <td>NaN</td>\n",
              "      <td>2435.795479</td>\n",
              "      <td>NaN</td>\n",
              "      <td>NaN</td>\n",
              "      <td>NaN</td>\n",
              "      <td>NaN</td>\n",
              "      <td>2086.212107</td>\n",
              "      <td>NaN</td>\n",
              "      <td>NaN</td>\n",
              "      <td>NaN</td>\n",
              "      <td>NaN</td>\n",
              "      <td>1739.817987</td>\n",
              "      <td>NaN</td>\n",
              "      <td>NaN</td>\n",
              "      <td>NaN</td>\n",
              "      <td>NaN</td>\n",
              "      <td>1513.091078</td>\n",
              "      <td>NaN</td>\n",
              "      <td>NaN</td>\n",
              "      <td>NaN</td>\n",
              "      <td>NaN</td>\n",
              "      <td>1299.026901</td>\n",
              "      <td>NaN</td>\n",
              "      <td>NaN</td>\n",
              "      <td>NaN</td>\n",
              "    </tr>\n",
              "    <tr>\n",
              "      <th>2</th>\n",
              "      <td>AGO</td>\n",
              "      <td>NaN</td>\n",
              "      <td>NaN</td>\n",
              "      <td>26388.333932</td>\n",
              "      <td>NaN</td>\n",
              "      <td>NaN</td>\n",
              "      <td>NaN</td>\n",
              "      <td>NaN</td>\n",
              "      <td>25631.065405</td>\n",
              "      <td>NaN</td>\n",
              "      <td>NaN</td>\n",
              "      <td>NaN</td>\n",
              "      <td>NaN</td>\n",
              "      <td>23685.487454</td>\n",
              "      <td>NaN</td>\n",
              "      <td>NaN</td>\n",
              "      <td>NaN</td>\n",
              "      <td>NaN</td>\n",
              "      <td>19644.970257</td>\n",
              "      <td>NaN</td>\n",
              "      <td>NaN</td>\n",
              "      <td>NaN</td>\n",
              "      <td>NaN</td>\n",
              "      <td>16530.864129</td>\n",
              "      <td>NaN</td>\n",
              "      <td>NaN</td>\n",
              "      <td>NaN</td>\n",
              "      <td>NaN</td>\n",
              "      <td>13845.686086</td>\n",
              "      <td>NaN</td>\n",
              "      <td>NaN</td>\n",
              "      <td>NaN</td>\n",
              "      <td>NaN</td>\n",
              "      <td>11692.796116</td>\n",
              "      <td>NaN</td>\n",
              "      <td>NaN</td>\n",
              "      <td>NaN</td>\n",
              "      <td>NaN</td>\n",
              "      <td>9951.874617</td>\n",
              "      <td>NaN</td>\n",
              "      <td>NaN</td>\n",
              "      <td>NaN</td>\n",
              "      <td>NaN</td>\n",
              "      <td>8447.769695</td>\n",
              "      <td>NaN</td>\n",
              "      <td>NaN</td>\n",
              "      <td>NaN</td>\n",
              "      <td>NaN</td>\n",
              "      <td>7079.523087</td>\n",
              "      <td>NaN</td>\n",
              "      <td>NaN</td>\n",
              "      <td>NaN</td>\n",
              "      <td>NaN</td>\n",
              "      <td>5894.551805</td>\n",
              "      <td>NaN</td>\n",
              "      <td>NaN</td>\n",
              "      <td>NaN</td>\n",
              "      <td>NaN</td>\n",
              "      <td>4963.653313</td>\n",
              "      <td>NaN</td>\n",
              "      <td>NaN</td>\n",
              "      <td>NaN</td>\n",
              "    </tr>\n",
              "    <tr>\n",
              "      <th>3</th>\n",
              "      <td>ALB</td>\n",
              "      <td>NaN</td>\n",
              "      <td>NaN</td>\n",
              "      <td>15718.869480</td>\n",
              "      <td>NaN</td>\n",
              "      <td>NaN</td>\n",
              "      <td>NaN</td>\n",
              "      <td>NaN</td>\n",
              "      <td>13685.402610</td>\n",
              "      <td>NaN</td>\n",
              "      <td>NaN</td>\n",
              "      <td>NaN</td>\n",
              "      <td>NaN</td>\n",
              "      <td>11992.193038</td>\n",
              "      <td>NaN</td>\n",
              "      <td>NaN</td>\n",
              "      <td>NaN</td>\n",
              "      <td>NaN</td>\n",
              "      <td>10702.012217</td>\n",
              "      <td>NaN</td>\n",
              "      <td>NaN</td>\n",
              "      <td>NaN</td>\n",
              "      <td>NaN</td>\n",
              "      <td>9661.391571</td>\n",
              "      <td>NaN</td>\n",
              "      <td>NaN</td>\n",
              "      <td>NaN</td>\n",
              "      <td>NaN</td>\n",
              "      <td>8723.555708</td>\n",
              "      <td>NaN</td>\n",
              "      <td>NaN</td>\n",
              "      <td>NaN</td>\n",
              "      <td>NaN</td>\n",
              "      <td>8284.470867</td>\n",
              "      <td>NaN</td>\n",
              "      <td>NaN</td>\n",
              "      <td>NaN</td>\n",
              "      <td>NaN</td>\n",
              "      <td>8544.345311</td>\n",
              "      <td>NaN</td>\n",
              "      <td>NaN</td>\n",
              "      <td>NaN</td>\n",
              "      <td>NaN</td>\n",
              "      <td>8816.752485</td>\n",
              "      <td>NaN</td>\n",
              "      <td>NaN</td>\n",
              "      <td>NaN</td>\n",
              "      <td>NaN</td>\n",
              "      <td>9057.187215</td>\n",
              "      <td>NaN</td>\n",
              "      <td>NaN</td>\n",
              "      <td>NaN</td>\n",
              "      <td>NaN</td>\n",
              "      <td>9274.579618</td>\n",
              "      <td>NaN</td>\n",
              "      <td>NaN</td>\n",
              "      <td>NaN</td>\n",
              "      <td>NaN</td>\n",
              "      <td>9361.546040</td>\n",
              "      <td>NaN</td>\n",
              "      <td>NaN</td>\n",
              "      <td>NaN</td>\n",
              "    </tr>\n",
              "    <tr>\n",
              "      <th>4</th>\n",
              "      <td>AND</td>\n",
              "      <td>NaN</td>\n",
              "      <td>NaN</td>\n",
              "      <td>20533.506831</td>\n",
              "      <td>NaN</td>\n",
              "      <td>NaN</td>\n",
              "      <td>NaN</td>\n",
              "      <td>NaN</td>\n",
              "      <td>15203.776857</td>\n",
              "      <td>NaN</td>\n",
              "      <td>NaN</td>\n",
              "      <td>NaN</td>\n",
              "      <td>NaN</td>\n",
              "      <td>11735.832218</td>\n",
              "      <td>NaN</td>\n",
              "      <td>NaN</td>\n",
              "      <td>NaN</td>\n",
              "      <td>NaN</td>\n",
              "      <td>9630.465961</td>\n",
              "      <td>NaN</td>\n",
              "      <td>NaN</td>\n",
              "      <td>NaN</td>\n",
              "      <td>NaN</td>\n",
              "      <td>8068.722197</td>\n",
              "      <td>NaN</td>\n",
              "      <td>NaN</td>\n",
              "      <td>NaN</td>\n",
              "      <td>NaN</td>\n",
              "      <td>6513.259726</td>\n",
              "      <td>NaN</td>\n",
              "      <td>NaN</td>\n",
              "      <td>NaN</td>\n",
              "      <td>NaN</td>\n",
              "      <td>5359.326179</td>\n",
              "      <td>NaN</td>\n",
              "      <td>NaN</td>\n",
              "      <td>NaN</td>\n",
              "      <td>NaN</td>\n",
              "      <td>4906.182474</td>\n",
              "      <td>NaN</td>\n",
              "      <td>NaN</td>\n",
              "      <td>NaN</td>\n",
              "      <td>NaN</td>\n",
              "      <td>4505.417636</td>\n",
              "      <td>NaN</td>\n",
              "      <td>NaN</td>\n",
              "      <td>NaN</td>\n",
              "      <td>NaN</td>\n",
              "      <td>3816.941609</td>\n",
              "      <td>NaN</td>\n",
              "      <td>NaN</td>\n",
              "      <td>NaN</td>\n",
              "      <td>NaN</td>\n",
              "      <td>3828.842491</td>\n",
              "      <td>NaN</td>\n",
              "      <td>NaN</td>\n",
              "      <td>NaN</td>\n",
              "      <td>NaN</td>\n",
              "      <td>4098.648070</td>\n",
              "      <td>NaN</td>\n",
              "      <td>NaN</td>\n",
              "      <td>NaN</td>\n",
              "    </tr>\n",
              "  </tbody>\n",
              "</table>\n",
              "</div>"
            ],
            "text/plain": [
              "  Country Code  1960  1961          1962  ...         2017  2018  2019  2020\n",
              "0          ABW   NaN   NaN           NaN  ...          NaN   NaN   NaN   NaN\n",
              "1          AFG   NaN   NaN   5042.003687  ...  1299.026901   NaN   NaN   NaN\n",
              "2          AGO   NaN   NaN  26388.333932  ...  4963.653313   NaN   NaN   NaN\n",
              "3          ALB   NaN   NaN  15718.869480  ...  9361.546040   NaN   NaN   NaN\n",
              "4          AND   NaN   NaN  20533.506831  ...  4098.648070   NaN   NaN   NaN\n",
              "\n",
              "[5 rows x 62 columns]"
            ]
          },
          "metadata": {
            "tags": []
          },
          "execution_count": 364
        }
      ]
    },
    {
      "cell_type": "markdown",
      "metadata": {
        "id": "d1NBx75NiZ1U"
      },
      "source": [
        "There are a lot of NaN in various columns. Let´s get rid of columns with all NaN"
      ]
    },
    {
      "cell_type": "code",
      "metadata": {
        "id": "ZGrYDJ-iiZJr"
      },
      "source": [
        "rifr.dropna(axis=1, how='all', inplace=True)"
      ],
      "execution_count": 365,
      "outputs": []
    },
    {
      "cell_type": "code",
      "metadata": {
        "colab": {
          "base_uri": "https://localhost:8080/"
        },
        "id": "0sLKTYK4VUQ2",
        "outputId": "e7f939cf-f433-47d2-fb90-b072048819b5"
      },
      "source": [
        "rifr.shape"
      ],
      "execution_count": 366,
      "outputs": [
        {
          "output_type": "execute_result",
          "data": {
            "text/plain": [
              "(264, 14)"
            ]
          },
          "metadata": {
            "tags": []
          },
          "execution_count": 366
        }
      ]
    },
    {
      "cell_type": "markdown",
      "metadata": {
        "id": "RzDLYAT0rh6y"
      },
      "source": [
        "We have now 14 columns instead of 66. 52 Columns were with NaN. Now we can inspect the general overview:"
      ]
    },
    {
      "cell_type": "code",
      "metadata": {
        "colab": {
          "base_uri": "https://localhost:8080/",
          "height": 294
        },
        "id": "WsiMIyu_sCt5",
        "outputId": "d526ee5f-e148-4a57-adfb-6595cca3b56e"
      },
      "source": [
        "rifr.describe()"
      ],
      "execution_count": 367,
      "outputs": [
        {
          "output_type": "execute_result",
          "data": {
            "text/html": [
              "<div>\n",
              "<style scoped>\n",
              "    .dataframe tbody tr th:only-of-type {\n",
              "        vertical-align: middle;\n",
              "    }\n",
              "\n",
              "    .dataframe tbody tr th {\n",
              "        vertical-align: top;\n",
              "    }\n",
              "\n",
              "    .dataframe thead th {\n",
              "        text-align: right;\n",
              "    }\n",
              "</style>\n",
              "<table border=\"1\" class=\"dataframe\">\n",
              "  <thead>\n",
              "    <tr style=\"text-align: right;\">\n",
              "      <th></th>\n",
              "      <th>1962</th>\n",
              "      <th>1967</th>\n",
              "      <th>1972</th>\n",
              "      <th>1977</th>\n",
              "      <th>1982</th>\n",
              "      <th>1987</th>\n",
              "      <th>1992</th>\n",
              "      <th>1997</th>\n",
              "      <th>2002</th>\n",
              "      <th>2007</th>\n",
              "      <th>2012</th>\n",
              "      <th>2014</th>\n",
              "      <th>2017</th>\n",
              "    </tr>\n",
              "  </thead>\n",
              "  <tbody>\n",
              "    <tr>\n",
              "      <th>count</th>\n",
              "      <td>197.000000</td>\n",
              "      <td>197.000000</td>\n",
              "      <td>198.000000</td>\n",
              "      <td>198.000000</td>\n",
              "      <td>198.000000</td>\n",
              "      <td>198.000000</td>\n",
              "      <td>220.000000</td>\n",
              "      <td>225.000000</td>\n",
              "      <td>2.270000e+02</td>\n",
              "      <td>2.280000e+02</td>\n",
              "      <td>228.000000</td>\n",
              "      <td>1.000000</td>\n",
              "      <td>227.000000</td>\n",
              "    </tr>\n",
              "    <tr>\n",
              "      <th>mean</th>\n",
              "      <td>39691.071342</td>\n",
              "      <td>35360.823620</td>\n",
              "      <td>32218.536111</td>\n",
              "      <td>29325.995708</td>\n",
              "      <td>26666.949630</td>\n",
              "      <td>24325.115022</td>\n",
              "      <td>20848.417820</td>\n",
              "      <td>18785.620435</td>\n",
              "      <td>6.439801e+04</td>\n",
              "      <td>6.292416e+04</td>\n",
              "      <td>15005.687546</td>\n",
              "      <td>194.565675</td>\n",
              "      <td>14101.975250</td>\n",
              "    </tr>\n",
              "    <tr>\n",
              "      <th>std</th>\n",
              "      <td>93957.420653</td>\n",
              "      <td>84644.955100</td>\n",
              "      <td>78072.869462</td>\n",
              "      <td>72480.774352</td>\n",
              "      <td>67685.172606</td>\n",
              "      <td>63726.352537</td>\n",
              "      <td>56987.824382</td>\n",
              "      <td>53428.246812</td>\n",
              "      <td>7.076280e+05</td>\n",
              "      <td>7.066086e+05</td>\n",
              "      <td>45271.266142</td>\n",
              "      <td>NaN</td>\n",
              "      <td>42686.354450</td>\n",
              "    </tr>\n",
              "    <tr>\n",
              "      <th>min</th>\n",
              "      <td>0.000000</td>\n",
              "      <td>0.000000</td>\n",
              "      <td>0.000000</td>\n",
              "      <td>0.000000</td>\n",
              "      <td>0.000000</td>\n",
              "      <td>0.000000</td>\n",
              "      <td>7.646926</td>\n",
              "      <td>0.000000</td>\n",
              "      <td>0.000000e+00</td>\n",
              "      <td>0.000000e+00</td>\n",
              "      <td>0.000000</td>\n",
              "      <td>194.565675</td>\n",
              "      <td>0.000000</td>\n",
              "    </tr>\n",
              "    <tr>\n",
              "      <th>25%</th>\n",
              "      <td>2897.578359</td>\n",
              "      <td>2564.946388</td>\n",
              "      <td>2399.116774</td>\n",
              "      <td>2216.459213</td>\n",
              "      <td>2010.339925</td>\n",
              "      <td>1856.413693</td>\n",
              "      <td>1688.306525</td>\n",
              "      <td>1511.543363</td>\n",
              "      <td>1.376974e+03</td>\n",
              "      <td>1.264143e+03</td>\n",
              "      <td>1159.751875</td>\n",
              "      <td>194.565675</td>\n",
              "      <td>1067.558002</td>\n",
              "    </tr>\n",
              "    <tr>\n",
              "      <th>50%</th>\n",
              "      <td>7885.871166</td>\n",
              "      <td>7031.870782</td>\n",
              "      <td>6488.940105</td>\n",
              "      <td>6217.288588</td>\n",
              "      <td>5664.972221</td>\n",
              "      <td>4975.607995</td>\n",
              "      <td>4883.692755</td>\n",
              "      <td>4196.445835</td>\n",
              "      <td>4.330724e+03</td>\n",
              "      <td>3.862790e+03</td>\n",
              "      <td>3526.840514</td>\n",
              "      <td>194.565675</td>\n",
              "      <td>3361.771700</td>\n",
              "    </tr>\n",
              "    <tr>\n",
              "      <th>75%</th>\n",
              "      <td>28585.435702</td>\n",
              "      <td>25631.065405</td>\n",
              "      <td>24235.611937</td>\n",
              "      <td>22503.339680</td>\n",
              "      <td>21571.593906</td>\n",
              "      <td>19912.703422</td>\n",
              "      <td>13837.505336</td>\n",
              "      <td>13336.341722</td>\n",
              "      <td>1.291910e+04</td>\n",
              "      <td>1.166662e+04</td>\n",
              "      <td>10099.787446</td>\n",
              "      <td>194.565675</td>\n",
              "      <td>9920.276716</td>\n",
              "    </tr>\n",
              "    <tr>\n",
              "      <th>max</th>\n",
              "      <td>932129.971817</td>\n",
              "      <td>855341.608344</td>\n",
              "      <td>812864.294697</td>\n",
              "      <td>766459.722542</td>\n",
              "      <td>726930.642265</td>\n",
              "      <td>691453.231324</td>\n",
              "      <td>651198.780343</td>\n",
              "      <td>627010.120681</td>\n",
              "      <td>1.065202e+07</td>\n",
              "      <td>1.066219e+07</td>\n",
              "      <td>530063.981841</td>\n",
              "      <td>194.565675</td>\n",
              "      <td>495049.504950</td>\n",
              "    </tr>\n",
              "  </tbody>\n",
              "</table>\n",
              "</div>"
            ],
            "text/plain": [
              "                1962           1967  ...        2014           2017\n",
              "count     197.000000     197.000000  ...    1.000000     227.000000\n",
              "mean    39691.071342   35360.823620  ...  194.565675   14101.975250\n",
              "std     93957.420653   84644.955100  ...         NaN   42686.354450\n",
              "min         0.000000       0.000000  ...  194.565675       0.000000\n",
              "25%      2897.578359    2564.946388  ...  194.565675    1067.558002\n",
              "50%      7885.871166    7031.870782  ...  194.565675    3361.771700\n",
              "75%     28585.435702   25631.065405  ...  194.565675    9920.276716\n",
              "max    932129.971817  855341.608344  ...  194.565675  495049.504950\n",
              "\n",
              "[8 rows x 13 columns]"
            ]
          },
          "metadata": {
            "tags": []
          },
          "execution_count": 367
        }
      ]
    },
    {
      "cell_type": "markdown",
      "metadata": {
        "id": "KPAJVa_Yskbf"
      },
      "source": [
        "As we can see, there is only one row in 2014. So the right think to do is to remove it."
      ]
    },
    {
      "cell_type": "code",
      "metadata": {
        "id": "G0ryiDIysvMZ"
      },
      "source": [
        "rifr = rifr.drop(['2014'], axis=1)"
      ],
      "execution_count": 368,
      "outputs": []
    },
    {
      "cell_type": "code",
      "metadata": {
        "colab": {
          "base_uri": "https://localhost:8080/",
          "height": 294
        },
        "id": "8kzfp2XGsz3u",
        "outputId": "f61193f5-55d9-4fd1-fd5e-fc501e57dfb7"
      },
      "source": [
        "rifr.describe()"
      ],
      "execution_count": 369,
      "outputs": [
        {
          "output_type": "execute_result",
          "data": {
            "text/html": [
              "<div>\n",
              "<style scoped>\n",
              "    .dataframe tbody tr th:only-of-type {\n",
              "        vertical-align: middle;\n",
              "    }\n",
              "\n",
              "    .dataframe tbody tr th {\n",
              "        vertical-align: top;\n",
              "    }\n",
              "\n",
              "    .dataframe thead th {\n",
              "        text-align: right;\n",
              "    }\n",
              "</style>\n",
              "<table border=\"1\" class=\"dataframe\">\n",
              "  <thead>\n",
              "    <tr style=\"text-align: right;\">\n",
              "      <th></th>\n",
              "      <th>1962</th>\n",
              "      <th>1967</th>\n",
              "      <th>1972</th>\n",
              "      <th>1977</th>\n",
              "      <th>1982</th>\n",
              "      <th>1987</th>\n",
              "      <th>1992</th>\n",
              "      <th>1997</th>\n",
              "      <th>2002</th>\n",
              "      <th>2007</th>\n",
              "      <th>2012</th>\n",
              "      <th>2017</th>\n",
              "    </tr>\n",
              "  </thead>\n",
              "  <tbody>\n",
              "    <tr>\n",
              "      <th>count</th>\n",
              "      <td>197.000000</td>\n",
              "      <td>197.000000</td>\n",
              "      <td>198.000000</td>\n",
              "      <td>198.000000</td>\n",
              "      <td>198.000000</td>\n",
              "      <td>198.000000</td>\n",
              "      <td>220.000000</td>\n",
              "      <td>225.000000</td>\n",
              "      <td>2.270000e+02</td>\n",
              "      <td>2.280000e+02</td>\n",
              "      <td>228.000000</td>\n",
              "      <td>227.000000</td>\n",
              "    </tr>\n",
              "    <tr>\n",
              "      <th>mean</th>\n",
              "      <td>39691.071342</td>\n",
              "      <td>35360.823620</td>\n",
              "      <td>32218.536111</td>\n",
              "      <td>29325.995708</td>\n",
              "      <td>26666.949630</td>\n",
              "      <td>24325.115022</td>\n",
              "      <td>20848.417820</td>\n",
              "      <td>18785.620435</td>\n",
              "      <td>6.439801e+04</td>\n",
              "      <td>6.292416e+04</td>\n",
              "      <td>15005.687546</td>\n",
              "      <td>14101.975250</td>\n",
              "    </tr>\n",
              "    <tr>\n",
              "      <th>std</th>\n",
              "      <td>93957.420653</td>\n",
              "      <td>84644.955100</td>\n",
              "      <td>78072.869462</td>\n",
              "      <td>72480.774352</td>\n",
              "      <td>67685.172606</td>\n",
              "      <td>63726.352537</td>\n",
              "      <td>56987.824382</td>\n",
              "      <td>53428.246812</td>\n",
              "      <td>7.076280e+05</td>\n",
              "      <td>7.066086e+05</td>\n",
              "      <td>45271.266142</td>\n",
              "      <td>42686.354450</td>\n",
              "    </tr>\n",
              "    <tr>\n",
              "      <th>min</th>\n",
              "      <td>0.000000</td>\n",
              "      <td>0.000000</td>\n",
              "      <td>0.000000</td>\n",
              "      <td>0.000000</td>\n",
              "      <td>0.000000</td>\n",
              "      <td>0.000000</td>\n",
              "      <td>7.646926</td>\n",
              "      <td>0.000000</td>\n",
              "      <td>0.000000e+00</td>\n",
              "      <td>0.000000e+00</td>\n",
              "      <td>0.000000</td>\n",
              "      <td>0.000000</td>\n",
              "    </tr>\n",
              "    <tr>\n",
              "      <th>25%</th>\n",
              "      <td>2897.578359</td>\n",
              "      <td>2564.946388</td>\n",
              "      <td>2399.116774</td>\n",
              "      <td>2216.459213</td>\n",
              "      <td>2010.339925</td>\n",
              "      <td>1856.413693</td>\n",
              "      <td>1688.306525</td>\n",
              "      <td>1511.543363</td>\n",
              "      <td>1.376974e+03</td>\n",
              "      <td>1.264143e+03</td>\n",
              "      <td>1159.751875</td>\n",
              "      <td>1067.558002</td>\n",
              "    </tr>\n",
              "    <tr>\n",
              "      <th>50%</th>\n",
              "      <td>7885.871166</td>\n",
              "      <td>7031.870782</td>\n",
              "      <td>6488.940105</td>\n",
              "      <td>6217.288588</td>\n",
              "      <td>5664.972221</td>\n",
              "      <td>4975.607995</td>\n",
              "      <td>4883.692755</td>\n",
              "      <td>4196.445835</td>\n",
              "      <td>4.330724e+03</td>\n",
              "      <td>3.862790e+03</td>\n",
              "      <td>3526.840514</td>\n",
              "      <td>3361.771700</td>\n",
              "    </tr>\n",
              "    <tr>\n",
              "      <th>75%</th>\n",
              "      <td>28585.435702</td>\n",
              "      <td>25631.065405</td>\n",
              "      <td>24235.611937</td>\n",
              "      <td>22503.339680</td>\n",
              "      <td>21571.593906</td>\n",
              "      <td>19912.703422</td>\n",
              "      <td>13837.505336</td>\n",
              "      <td>13336.341722</td>\n",
              "      <td>1.291910e+04</td>\n",
              "      <td>1.166662e+04</td>\n",
              "      <td>10099.787446</td>\n",
              "      <td>9920.276716</td>\n",
              "    </tr>\n",
              "    <tr>\n",
              "      <th>max</th>\n",
              "      <td>932129.971817</td>\n",
              "      <td>855341.608344</td>\n",
              "      <td>812864.294697</td>\n",
              "      <td>766459.722542</td>\n",
              "      <td>726930.642265</td>\n",
              "      <td>691453.231324</td>\n",
              "      <td>651198.780343</td>\n",
              "      <td>627010.120681</td>\n",
              "      <td>1.065202e+07</td>\n",
              "      <td>1.066219e+07</td>\n",
              "      <td>530063.981841</td>\n",
              "      <td>495049.504950</td>\n",
              "    </tr>\n",
              "  </tbody>\n",
              "</table>\n",
              "</div>"
            ],
            "text/plain": [
              "                1962           1967  ...           2012           2017\n",
              "count     197.000000     197.000000  ...     228.000000     227.000000\n",
              "mean    39691.071342   35360.823620  ...   15005.687546   14101.975250\n",
              "std     93957.420653   84644.955100  ...   45271.266142   42686.354450\n",
              "min         0.000000       0.000000  ...       0.000000       0.000000\n",
              "25%      2897.578359    2564.946388  ...    1159.751875    1067.558002\n",
              "50%      7885.871166    7031.870782  ...    3526.840514    3361.771700\n",
              "75%     28585.435702   25631.065405  ...   10099.787446    9920.276716\n",
              "max    932129.971817  855341.608344  ...  530063.981841  495049.504950\n",
              "\n",
              "[8 rows x 12 columns]"
            ]
          },
          "metadata": {
            "tags": []
          },
          "execution_count": 369
        }
      ]
    },
    {
      "cell_type": "markdown",
      "metadata": {
        "id": "05syQT8ktOYJ"
      },
      "source": [
        "At first glance, the two years 2002 and 2007 have higher values than the other years."
      ]
    },
    {
      "cell_type": "code",
      "metadata": {
        "id": "fvOZ5EhZU-7-"
      },
      "source": [
        "mean_rifr = rifr.mean(axis=0,skipna=True)"
      ],
      "execution_count": 370,
      "outputs": []
    },
    {
      "cell_type": "code",
      "metadata": {
        "colab": {
          "base_uri": "https://localhost:8080/"
        },
        "id": "_6PWqx47Zqi2",
        "outputId": "5a0ac577-93c2-4542-fbf2-4543da623e32"
      },
      "source": [
        "mean_rifr"
      ],
      "execution_count": 371,
      "outputs": [
        {
          "output_type": "execute_result",
          "data": {
            "text/plain": [
              "1962    39691.071342\n",
              "1967    35360.823620\n",
              "1972    32218.536111\n",
              "1977    29325.995708\n",
              "1982    26666.949630\n",
              "1987    24325.115022\n",
              "1992    20848.417820\n",
              "1997    18785.620435\n",
              "2002    64398.013987\n",
              "2007    62924.161007\n",
              "2012    15005.687546\n",
              "2017    14101.975250\n",
              "dtype: float64"
            ]
          },
          "metadata": {
            "tags": []
          },
          "execution_count": 371
        }
      ]
    },
    {
      "cell_type": "markdown",
      "metadata": {
        "id": "c_yYCmIJbK5Y"
      },
      "source": [
        "když nenahradím načka dělá to bordel v průměrech. Musím je něčím nahradit"
      ]
    },
    {
      "cell_type": "markdown",
      "metadata": {
        "id": "0lMFgFcCd23U"
      },
      "source": [
        "Let´s have a look at data visualizing them"
      ]
    },
    {
      "cell_type": "code",
      "metadata": {
        "colab": {
          "base_uri": "https://localhost:8080/",
          "height": 264
        },
        "id": "xrXYuvX8d2iP",
        "outputId": "ba3e7b0b-a7fb-4d08-a0d6-61ca1c148b29"
      },
      "source": [
        "import matplotlib.pyplot as plt\n",
        "plt.plot( mean_rifr )\n",
        "plt.show()"
      ],
      "execution_count": 372,
      "outputs": [
        {
          "output_type": "display_data",
          "data": {
            "image/png": "[encoded data removed]",
            "text/plain": [
              "<Figure size 432x288 with 1 Axes>"
            ]
          },
          "metadata": {
            "tags": [],
            "needs_background": "light"
          }
        }
      ]
    },
    {
      "cell_type": "code",
      "metadata": {
        "colab": {
          "base_uri": "https://localhost:8080/",
          "height": 202
        },
        "id": "EE5VMD2WSS8h",
        "outputId": "3c6697b4-b740-4ad1-e8b1-560277f08ef7"
      },
      "source": [
        "rifr_sorted = rifr.sort_values(['2007', '2012'], ascending=(False, False))\n",
        "rifr_sorted.head()"
      ],
      "execution_count": 373,
      "outputs": [
        {
          "output_type": "execute_result",
          "data": {
            "text/html": [
              "<div>\n",
              "<style scoped>\n",
              "    .dataframe tbody tr th:only-of-type {\n",
              "        vertical-align: middle;\n",
              "    }\n",
              "\n",
              "    .dataframe tbody tr th {\n",
              "        vertical-align: top;\n",
              "    }\n",
              "\n",
              "    .dataframe thead th {\n",
              "        text-align: right;\n",
              "    }\n",
              "</style>\n",
              "<table border=\"1\" class=\"dataframe\">\n",
              "  <thead>\n",
              "    <tr style=\"text-align: right;\">\n",
              "      <th></th>\n",
              "      <th>Country Code</th>\n",
              "      <th>1962</th>\n",
              "      <th>1967</th>\n",
              "      <th>1972</th>\n",
              "      <th>1977</th>\n",
              "      <th>1982</th>\n",
              "      <th>1987</th>\n",
              "      <th>1992</th>\n",
              "      <th>1997</th>\n",
              "      <th>2002</th>\n",
              "      <th>2007</th>\n",
              "      <th>2012</th>\n",
              "      <th>2017</th>\n",
              "    </tr>\n",
              "  </thead>\n",
              "  <tbody>\n",
              "    <tr>\n",
              "      <th>89</th>\n",
              "      <td>GRL</td>\n",
              "      <td>NaN</td>\n",
              "      <td>NaN</td>\n",
              "      <td>NaN</td>\n",
              "      <td>NaN</td>\n",
              "      <td>NaN</td>\n",
              "      <td>NaN</td>\n",
              "      <td>NaN</td>\n",
              "      <td>NaN</td>\n",
              "      <td>1.065202e+07</td>\n",
              "      <td>1.066219e+07</td>\n",
              "      <td>NaN</td>\n",
              "      <td>NaN</td>\n",
              "    </tr>\n",
              "    <tr>\n",
              "      <th>112</th>\n",
              "      <td>ISL</td>\n",
              "      <td>932129.971817</td>\n",
              "      <td>855341.608344</td>\n",
              "      <td>812864.294697</td>\n",
              "      <td>766459.722542</td>\n",
              "      <td>726930.642265</td>\n",
              "      <td>691453.231324</td>\n",
              "      <td>651198.780343</td>\n",
              "      <td>627010.120681</td>\n",
              "      <td>5.912570e+05</td>\n",
              "      <td>5.456308e+05</td>\n",
              "      <td>530063.981841</td>\n",
              "      <td>495049.504950</td>\n",
              "    </tr>\n",
              "    <tr>\n",
              "      <th>92</th>\n",
              "      <td>GUY</td>\n",
              "      <td>397502.824579</td>\n",
              "      <td>356576.920744</td>\n",
              "      <td>333819.056220</td>\n",
              "      <td>316097.079840</td>\n",
              "      <td>308481.579426</td>\n",
              "      <td>318173.656805</td>\n",
              "      <td>321933.417223</td>\n",
              "      <td>317954.536459</td>\n",
              "      <td>3.235816e+05</td>\n",
              "      <td>3.228512e+05</td>\n",
              "      <td>319036.694515</td>\n",
              "      <td>310879.091253</td>\n",
              "    </tr>\n",
              "    <tr>\n",
              "      <th>218</th>\n",
              "      <td>SUR</td>\n",
              "      <td>325771.486110</td>\n",
              "      <td>284750.325737</td>\n",
              "      <td>269089.742788</td>\n",
              "      <td>276807.708116</td>\n",
              "      <td>274293.693739</td>\n",
              "      <td>259820.015589</td>\n",
              "      <td>235345.577643</td>\n",
              "      <td>217982.451312</td>\n",
              "      <td>2.052971e+05</td>\n",
              "      <td>1.936692e+05</td>\n",
              "      <td>182910.944541</td>\n",
              "      <td>173531.685308</td>\n",
              "    </tr>\n",
              "    <tr>\n",
              "      <th>187</th>\n",
              "      <td>PNG</td>\n",
              "      <td>342256.207613</td>\n",
              "      <td>308454.186274</td>\n",
              "      <td>274490.008872</td>\n",
              "      <td>242533.760185</td>\n",
              "      <td>212552.371870</td>\n",
              "      <td>186601.804097</td>\n",
              "      <td>165625.322437</td>\n",
              "      <td>147063.116515</td>\n",
              "      <td>1.313412e+05</td>\n",
              "      <td>1.176468e+05</td>\n",
              "      <td>104966.556161</td>\n",
              "      <td>94927.381738</td>\n",
              "    </tr>\n",
              "  </tbody>\n",
              "</table>\n",
              "</div>"
            ],
            "text/plain": [
              "    Country Code           1962  ...           2012           2017\n",
              "89           GRL            NaN  ...            NaN            NaN\n",
              "112          ISL  932129.971817  ...  530063.981841  495049.504950\n",
              "92           GUY  397502.824579  ...  319036.694515  310879.091253\n",
              "218          SUR  325771.486110  ...  182910.944541  173531.685308\n",
              "187          PNG  342256.207613  ...  104966.556161   94927.381738\n",
              "\n",
              "[5 rows x 13 columns]"
            ]
          },
          "metadata": {
            "tags": []
          },
          "execution_count": 373
        }
      ]
    },
    {
      "cell_type": "markdown",
      "metadata": {
        "id": "vI2pJNbbTyTE"
      },
      "source": [
        "As we can see, there is definitely an outlier in the row 89 for the two years 2002 and 2007. Let´s get rid of him."
      ]
    },
    {
      "cell_type": "code",
      "metadata": {
        "id": "yyYfoy0pUJFM"
      },
      "source": [
        "# Delete row with index label '89' \n",
        "rifr_modi = rifr.drop(index=89 )"
      ],
      "execution_count": 374,
      "outputs": []
    },
    {
      "cell_type": "code",
      "metadata": {
        "colab": {
          "base_uri": "https://localhost:8080/",
          "height": 294
        },
        "id": "k-9agdygUjd3",
        "outputId": "d2c4f068-5e06-4764-bd6e-db200ac9c70f"
      },
      "source": [
        "rifr_modi.describe()"
      ],
      "execution_count": 375,
      "outputs": [
        {
          "output_type": "execute_result",
          "data": {
            "text/html": [
              "<div>\n",
              "<style scoped>\n",
              "    .dataframe tbody tr th:only-of-type {\n",
              "        vertical-align: middle;\n",
              "    }\n",
              "\n",
              "    .dataframe tbody tr th {\n",
              "        vertical-align: top;\n",
              "    }\n",
              "\n",
              "    .dataframe thead th {\n",
              "        text-align: right;\n",
              "    }\n",
              "</style>\n",
              "<table border=\"1\" class=\"dataframe\">\n",
              "  <thead>\n",
              "    <tr style=\"text-align: right;\">\n",
              "      <th></th>\n",
              "      <th>1962</th>\n",
              "      <th>1967</th>\n",
              "      <th>1972</th>\n",
              "      <th>1977</th>\n",
              "      <th>1982</th>\n",
              "      <th>1987</th>\n",
              "      <th>1992</th>\n",
              "      <th>1997</th>\n",
              "      <th>2002</th>\n",
              "      <th>2007</th>\n",
              "      <th>2012</th>\n",
              "      <th>2017</th>\n",
              "    </tr>\n",
              "  </thead>\n",
              "  <tbody>\n",
              "    <tr>\n",
              "      <th>count</th>\n",
              "      <td>197.000000</td>\n",
              "      <td>197.000000</td>\n",
              "      <td>198.000000</td>\n",
              "      <td>198.000000</td>\n",
              "      <td>198.000000</td>\n",
              "      <td>198.000000</td>\n",
              "      <td>220.000000</td>\n",
              "      <td>225.000000</td>\n",
              "      <td>226.000000</td>\n",
              "      <td>227.000000</td>\n",
              "      <td>228.000000</td>\n",
              "      <td>227.000000</td>\n",
              "    </tr>\n",
              "    <tr>\n",
              "      <th>mean</th>\n",
              "      <td>39691.071342</td>\n",
              "      <td>35360.823620</td>\n",
              "      <td>32218.536111</td>\n",
              "      <td>29325.995708</td>\n",
              "      <td>26666.949630</td>\n",
              "      <td>24325.115022</td>\n",
              "      <td>20848.417820</td>\n",
              "      <td>18785.620435</td>\n",
              "      <td>17550.144740</td>\n",
              "      <td>16231.372063</td>\n",
              "      <td>15005.687546</td>\n",
              "      <td>14101.975250</td>\n",
              "    </tr>\n",
              "    <tr>\n",
              "      <th>std</th>\n",
              "      <td>93957.420653</td>\n",
              "      <td>84644.955100</td>\n",
              "      <td>78072.869462</td>\n",
              "      <td>72480.774352</td>\n",
              "      <td>67685.172606</td>\n",
              "      <td>63726.352537</td>\n",
              "      <td>56987.824382</td>\n",
              "      <td>53428.246812</td>\n",
              "      <td>50463.192850</td>\n",
              "      <td>47074.835968</td>\n",
              "      <td>45271.266142</td>\n",
              "      <td>42686.354450</td>\n",
              "    </tr>\n",
              "    <tr>\n",
              "      <th>min</th>\n",
              "      <td>0.000000</td>\n",
              "      <td>0.000000</td>\n",
              "      <td>0.000000</td>\n",
              "      <td>0.000000</td>\n",
              "      <td>0.000000</td>\n",
              "      <td>0.000000</td>\n",
              "      <td>7.646926</td>\n",
              "      <td>0.000000</td>\n",
              "      <td>0.000000</td>\n",
              "      <td>0.000000</td>\n",
              "      <td>0.000000</td>\n",
              "      <td>0.000000</td>\n",
              "    </tr>\n",
              "    <tr>\n",
              "      <th>25%</th>\n",
              "      <td>2897.578359</td>\n",
              "      <td>2564.946388</td>\n",
              "      <td>2399.116774</td>\n",
              "      <td>2216.459213</td>\n",
              "      <td>2010.339925</td>\n",
              "      <td>1856.413693</td>\n",
              "      <td>1688.306525</td>\n",
              "      <td>1511.543363</td>\n",
              "      <td>1376.522413</td>\n",
              "      <td>1264.142861</td>\n",
              "      <td>1159.751875</td>\n",
              "      <td>1067.558002</td>\n",
              "    </tr>\n",
              "    <tr>\n",
              "      <th>50%</th>\n",
              "      <td>7885.871166</td>\n",
              "      <td>7031.870782</td>\n",
              "      <td>6488.940105</td>\n",
              "      <td>6217.288588</td>\n",
              "      <td>5664.972221</td>\n",
              "      <td>4975.607995</td>\n",
              "      <td>4883.692755</td>\n",
              "      <td>4196.445835</td>\n",
              "      <td>4176.479445</td>\n",
              "      <td>3816.941609</td>\n",
              "      <td>3526.840514</td>\n",
              "      <td>3361.771700</td>\n",
              "    </tr>\n",
              "    <tr>\n",
              "      <th>75%</th>\n",
              "      <td>28585.435702</td>\n",
              "      <td>25631.065405</td>\n",
              "      <td>24235.611937</td>\n",
              "      <td>22503.339680</td>\n",
              "      <td>21571.593906</td>\n",
              "      <td>19912.703422</td>\n",
              "      <td>13837.505336</td>\n",
              "      <td>13336.341722</td>\n",
              "      <td>12681.427221</td>\n",
              "      <td>11472.755596</td>\n",
              "      <td>10099.787446</td>\n",
              "      <td>9920.276716</td>\n",
              "    </tr>\n",
              "    <tr>\n",
              "      <th>max</th>\n",
              "      <td>932129.971817</td>\n",
              "      <td>855341.608344</td>\n",
              "      <td>812864.294697</td>\n",
              "      <td>766459.722542</td>\n",
              "      <td>726930.642265</td>\n",
              "      <td>691453.231324</td>\n",
              "      <td>651198.780343</td>\n",
              "      <td>627010.120681</td>\n",
              "      <td>591257.047262</td>\n",
              "      <td>545630.781279</td>\n",
              "      <td>530063.981841</td>\n",
              "      <td>495049.504950</td>\n",
              "    </tr>\n",
              "  </tbody>\n",
              "</table>\n",
              "</div>"
            ],
            "text/plain": [
              "                1962           1967  ...           2012           2017\n",
              "count     197.000000     197.000000  ...     228.000000     227.000000\n",
              "mean    39691.071342   35360.823620  ...   15005.687546   14101.975250\n",
              "std     93957.420653   84644.955100  ...   45271.266142   42686.354450\n",
              "min         0.000000       0.000000  ...       0.000000       0.000000\n",
              "25%      2897.578359    2564.946388  ...    1159.751875    1067.558002\n",
              "50%      7885.871166    7031.870782  ...    3526.840514    3361.771700\n",
              "75%     28585.435702   25631.065405  ...   10099.787446    9920.276716\n",
              "max    932129.971817  855341.608344  ...  530063.981841  495049.504950\n",
              "\n",
              "[8 rows x 12 columns]"
            ]
          },
          "metadata": {
            "tags": []
          },
          "execution_count": 375
        }
      ]
    },
    {
      "cell_type": "code",
      "metadata": {
        "id": "Ld18mKDpWC1-"
      },
      "source": [
        "rifr_modi_mean = rifr_modi.mean(axis=0)"
      ],
      "execution_count": 376,
      "outputs": []
    },
    {
      "cell_type": "code",
      "metadata": {
        "colab": {
          "base_uri": "https://localhost:8080/",
          "height": 264
        },
        "id": "02fnYs8UWuh3",
        "outputId": "2343cb52-844a-4ead-c674-760150fd7ba1"
      },
      "source": [
        "import matplotlib.pyplot as plt\n",
        "plt.plot( rifr_modi_mean )\n",
        "plt.show()"
      ],
      "execution_count": 377,
      "outputs": [
        {
          "output_type": "display_data",
          "data": {
            "image/png": "[encoded data removed]",
            "text/plain": [
              "<Figure size 432x288 with 1 Axes>"
            ]
          },
          "metadata": {
            "tags": [],
            "needs_background": "light"
          }
        }
      ]
    },
    {
      "cell_type": "markdown",
      "metadata": {
        "id": "4077ORXtya15"
      },
      "source": [
        "Let´s display it better"
      ]
    },
    {
      "cell_type": "code",
      "metadata": {
        "colab": {
          "base_uri": "https://localhost:8080/",
          "height": 752
        },
        "id": "4LLDDzt-ypWS",
        "outputId": "6e83804b-a016-4099-de15-5054fe614441"
      },
      "source": [
        "plt.figure(figsize=(22,12))\n",
        "plt.xlabel('Year', fontsize=20)\n",
        "plt.ylabel('Cubic meters', fontsize=20)\n",
        "plt.title('Renewable internal freshwater resources per capita', fontsize=30)\n",
        "plt.bar(rifr_modi_mean.index, rifr_modi_mean.values)\n",
        "plt.show()"
      ],
      "execution_count": 378,
      "outputs": [
        {
          "output_type": "display_data",
          "data": {
            "image/png": "[encoded data removed]",
            "text/plain": [
              "<Figure size 1584x864 with 1 Axes>"
            ]
          },
          "metadata": {
            "tags": [],
            "needs_background": "light"
          }
        }
      ]
    },
    {
      "cell_type": "markdown",
      "metadata": {
        "id": "GHKZS8frjLca"
      },
      "source": [
        "Now, our dataset Renewable internal freshwater resources per capita = > rifr per capita is clean. Because this dataset is built on per capita value, we sould take data of population also in account. I use the dataset \"Population, total\" from the World Bank Data. "
      ]
    },
    {
      "cell_type": "markdown",
      "metadata": {
        "id": "ttXGcQPtkuYk"
      },
      "source": [
        "# **Examination of population data**"
      ]
    },
    {
      "cell_type": "code",
      "metadata": {
        "colab": {
          "base_uri": "https://localhost:8080/"
        },
        "id": "shtf_09BkO2j",
        "outputId": "08bd3621-839c-43eb-cb4c-4e19c833eba3"
      },
      "source": [
        "!head -10  './drive/MyDrive/ColabNotebooks/final_project/population/population.csv'"
      ],
      "execution_count": 379,
      "outputs": [
        {
          "output_type": "stream",
          "text": [
            "﻿\"Data Source\",\"World Development Indicators\",\r\n",
            "\r\n",
            "\"Last Updated Date\",\"2021-05-25\",\r\n",
            "\r\n",
            "\"Country Name\",\"Country Code\",\"Indicator Name\",\"Indicator Code\",\"1960\",\"1961\",\"1962\",\"1963\",\"1964\",\"1965\",\"1966\",\"1967\",\"1968\",\"1969\",\"1970\",\"1971\",\"1972\",\"1973\",\"1974\",\"1975\",\"1976\",\"1977\",\"1978\",\"1979\",\"1980\",\"1981\",\"1982\",\"1983\",\"1984\",\"1985\",\"1986\",\"1987\",\"1988\",\"1989\",\"1990\",\"1991\",\"1992\",\"1993\",\"1994\",\"1995\",\"1996\",\"1997\",\"1998\",\"1999\",\"2000\",\"2001\",\"2002\",\"2003\",\"2004\",\"2005\",\"2006\",\"2007\",\"2008\",\"2009\",\"2010\",\"2011\",\"2012\",\"2013\",\"2014\",\"2015\",\"2016\",\"2017\",\"2018\",\"2019\",\"2020\",\r\n",
            "\"Aruba\",\"ABW\",\"Population, total\",\"SP.POP.TOTL\",\"54211\",\"55438\",\"56225\",\"56695\",\"57032\",\"57360\",\"57715\",\"58055\",\"58386\",\"58726\",\"59063\",\"59440\",\"59840\",\"60243\",\"60528\",\"60657\",\"60586\",\"60366\",\"60103\",\"59980\",\"60096\",\"60567\",\"61345\",\"62201\",\"62836\",\"63026\",\"62644\",\"61833\",\"61079\",\"61032\",\"62149\",\"64622\",\"68235\",\"72504\",\"76700\",\"80324\",\"83200\",\"85451\",\"87277\",\"89005\",\"90853\",\"92898\",\"94992\",\"97017\",\"98737\",\"100031\",\"100834\",\"101222\",\"101358\",\"101455\",\"101669\",\"102046\",\"102560\",\"103159\",\"103774\",\"104341\",\"104872\",\"105366\",\"105845\",\"106314\",\"\",\r\n",
            "\"Afghanistan\",\"AFG\",\"Population, total\",\"SP.POP.TOTL\",\"8996973\",\"9169410\",\"9351441\",\"9543205\",\"9744781\",\"9956320\",\"10174836\",\"10399926\",\"10637063\",\"10893776\",\"11173642\",\"11475445\",\"11791215\",\"12108963\",\"12412950\",\"12689160\",\"12943093\",\"13171306\",\"13341198\",\"13411056\",\"13356511\",\"13171673\",\"12882528\",\"12537730\",\"12204292\",\"11938208\",\"11736179\",\"11604534\",\"11618005\",\"11868877\",\"12412308\",\"13299017\",\"14485546\",\"15816603\",\"17075727\",\"18110657\",\"18853437\",\"19357126\",\"19737765\",\"20170844\",\"20779953\",\"21606988\",\"22600770\",\"23680871\",\"24726684\",\"25654277\",\"26433049\",\"27100536\",\"27722276\",\"28394813\",\"29185507\",\"30117413\",\"31161376\",\"32269589\",\"33370794\",\"34413603\",\"35383128\",\"36296400\",\"37172386\",\"38041754\",\"\",\r\n",
            "\"Angola\",\"AGO\",\"Population, total\",\"SP.POP.TOTL\",\"5454933\",\"5531472\",\"5608539\",\"5679458\",\"5735044\",\"5770570\",\"5781214\",\"5774243\",\"5771652\",\"5803254\",\"5890365\",\"6040777\",\"6248552\",\"6496962\",\"6761380\",\"7024000\",\"7279509\",\"7533735\",\"7790707\",\"8058067\",\"8341289\",\"8640446\",\"8952950\",\"9278096\",\"9614754\",\"9961997\",\"10320111\",\"10689250\",\"11068050\",\"11454777\",\"11848386\",\"12248901\",\"12657366\",\"13075049\",\"13503747\",\"13945206\",\"14400719\",\"14871570\",\"15359601\",\"15866869\",\"16395473\",\"16945753\",\"17519417\",\"18121479\",\"18758145\",\"19433602\",\"20149901\",\"20905363\",\"21695634\",\"22514281\",\"23356246\",\"24220661\",\"25107931\",\"26015780\",\"26941779\",\"27884381\",\"28842484\",\"29816748\",\"30809762\",\"31825295\",\"\",\r\n",
            "\"Albania\",\"ALB\",\"Population, total\",\"SP.POP.TOTL\",\"1608800\",\"1659800\",\"1711319\",\"1762621\",\"1814135\",\"1864791\",\"1914573\",\"1965598\",\"2022272\",\"2081695\",\"2135479\",\"2187853\",\"2243126\",\"2296752\",\"2350124\",\"2404831\",\"2458526\",\"2513546\",\"2566266\",\"2617832\",\"2671997\",\"2726056\",\"2784278\",\"2843960\",\"2904429\",\"2964762\",\"3022635\",\"3083605\",\"3142336\",\"3227943\",\"3286542\",\"3266790\",\"3247039\",\"3227287\",\"3207536\",\"3187784\",\"3168033\",\"3148281\",\"3128530\",\"3108778\",\"3089027\",\"3060173\",\"3051010\",\"3039616\",\"3026939\",\"3011487\",\"2992547\",\"2970017\",\"2947314\",\"2927519\",\"2913021\",\"2905195\",\"2900401\",\"2895092\",\"2889104\",\"2880703\",\"2876101\",\"2873457\",\"2866376\",\"2854191\",\"\",\r\n",
            "\"Andorra\",\"AND\",\"Population, total\",\"SP.POP.TOTL\",\"13411\",\"14375\",\"15370\",\"16412\",\"17469\",\"18549\",\"19647\",\"20758\",\"21890\",\"23058\",\"24276\",\"25559\",\"26892\",\"28232\",\"29520\",\"30705\",\"31777\",\"32771\",\"33737\",\"34818\",\"36067\",\"37500\",\"39114\",\"40867\",\"42706\",\"44600\",\"46517\",\"48455\",\"50434\",\"52448\",\"54509\",\"56671\",\"58888\",\"60971\",\"62677\",\"63850\",\"64360\",\"64327\",\"64142\",\"64370\",\"65390\",\"67341\",\"70049\",\"73182\",\"76244\",\"78867\",\"80993\",\"82684\",\"83862\",\"84463\",\"84449\",\"83747\",\"82427\",\"80774\",\"79213\",\"78011\",\"77297\",\"77001\",\"77006\",\"77142\",\"\",\r\n"
          ],
          "name": "stdout"
        }
      ]
    },
    {
      "cell_type": "code",
      "metadata": {
        "id": "XEc7H4W5lj3N"
      },
      "source": [
        "!sed -e '1,4d' < './drive/MyDrive/ColabNotebooks/final_project/population/population.csv' > './drive/MyDrive/ColabNotebooks/final_project/population.csv'"
      ],
      "execution_count": 380,
      "outputs": []
    },
    {
      "cell_type": "code",
      "metadata": {
        "id": "c5zod7Qalv_6"
      },
      "source": [
        "population = pd.read_csv('./drive/MyDrive/ColabNotebooks/final_project/population.csv')"
      ],
      "execution_count": 381,
      "outputs": []
    },
    {
      "cell_type": "code",
      "metadata": {
        "colab": {
          "base_uri": "https://localhost:8080/",
          "height": 322
        },
        "id": "4J4id4Ahl5YO",
        "outputId": "048a0ead-4417-4f7e-e6c9-20db882b887f"
      },
      "source": [
        "population.head()"
      ],
      "execution_count": 382,
      "outputs": [
        {
          "output_type": "execute_result",
          "data": {
            "text/html": [
              "<div>\n",
              "<style scoped>\n",
              "    .dataframe tbody tr th:only-of-type {\n",
              "        vertical-align: middle;\n",
              "    }\n",
              "\n",
              "    .dataframe tbody tr th {\n",
              "        vertical-align: top;\n",
              "    }\n",
              "\n",
              "    .dataframe thead th {\n",
              "        text-align: right;\n",
              "    }\n",
              "</style>\n",
              "<table border=\"1\" class=\"dataframe\">\n",
              "  <thead>\n",
              "    <tr style=\"text-align: right;\">\n",
              "      <th></th>\n",
              "      <th>Country Name</th>\n",
              "      <th>Country Code</th>\n",
              "      <th>Indicator Name</th>\n",
              "      <th>Indicator Code</th>\n",
              "      <th>1960</th>\n",
              "      <th>1961</th>\n",
              "      <th>1962</th>\n",
              "      <th>1963</th>\n",
              "      <th>1964</th>\n",
              "      <th>1965</th>\n",
              "      <th>1966</th>\n",
              "      <th>1967</th>\n",
              "      <th>1968</th>\n",
              "      <th>1969</th>\n",
              "      <th>1970</th>\n",
              "      <th>1971</th>\n",
              "      <th>1972</th>\n",
              "      <th>1973</th>\n",
              "      <th>1974</th>\n",
              "      <th>1975</th>\n",
              "      <th>1976</th>\n",
              "      <th>1977</th>\n",
              "      <th>1978</th>\n",
              "      <th>1979</th>\n",
              "      <th>1980</th>\n",
              "      <th>1981</th>\n",
              "      <th>1982</th>\n",
              "      <th>1983</th>\n",
              "      <th>1984</th>\n",
              "      <th>1985</th>\n",
              "      <th>1986</th>\n",
              "      <th>1987</th>\n",
              "      <th>1988</th>\n",
              "      <th>1989</th>\n",
              "      <th>1990</th>\n",
              "      <th>1991</th>\n",
              "      <th>1992</th>\n",
              "      <th>1993</th>\n",
              "      <th>1994</th>\n",
              "      <th>1995</th>\n",
              "      <th>1996</th>\n",
              "      <th>1997</th>\n",
              "      <th>1998</th>\n",
              "      <th>1999</th>\n",
              "      <th>2000</th>\n",
              "      <th>2001</th>\n",
              "      <th>2002</th>\n",
              "      <th>2003</th>\n",
              "      <th>2004</th>\n",
              "      <th>2005</th>\n",
              "      <th>2006</th>\n",
              "      <th>2007</th>\n",
              "      <th>2008</th>\n",
              "      <th>2009</th>\n",
              "      <th>2010</th>\n",
              "      <th>2011</th>\n",
              "      <th>2012</th>\n",
              "      <th>2013</th>\n",
              "      <th>2014</th>\n",
              "      <th>2015</th>\n",
              "      <th>2016</th>\n",
              "      <th>2017</th>\n",
              "      <th>2018</th>\n",
              "      <th>2019</th>\n",
              "      <th>2020</th>\n",
              "      <th>Unnamed: 65</th>\n",
              "    </tr>\n",
              "  </thead>\n",
              "  <tbody>\n",
              "    <tr>\n",
              "      <th>0</th>\n",
              "      <td>Aruba</td>\n",
              "      <td>ABW</td>\n",
              "      <td>Population, total</td>\n",
              "      <td>SP.POP.TOTL</td>\n",
              "      <td>54211.0</td>\n",
              "      <td>55438.0</td>\n",
              "      <td>56225.0</td>\n",
              "      <td>56695.0</td>\n",
              "      <td>57032.0</td>\n",
              "      <td>57360.0</td>\n",
              "      <td>57715.0</td>\n",
              "      <td>58055.0</td>\n",
              "      <td>58386.0</td>\n",
              "      <td>58726.0</td>\n",
              "      <td>59063.0</td>\n",
              "      <td>59440.0</td>\n",
              "      <td>59840.0</td>\n",
              "      <td>60243.0</td>\n",
              "      <td>60528.0</td>\n",
              "      <td>60657.0</td>\n",
              "      <td>60586.0</td>\n",
              "      <td>60366.0</td>\n",
              "      <td>60103.0</td>\n",
              "      <td>59980.0</td>\n",
              "      <td>60096.0</td>\n",
              "      <td>60567.0</td>\n",
              "      <td>61345.0</td>\n",
              "      <td>62201.0</td>\n",
              "      <td>62836.0</td>\n",
              "      <td>63026.0</td>\n",
              "      <td>62644.0</td>\n",
              "      <td>61833.0</td>\n",
              "      <td>61079.0</td>\n",
              "      <td>61032.0</td>\n",
              "      <td>62149.0</td>\n",
              "      <td>64622.0</td>\n",
              "      <td>68235.0</td>\n",
              "      <td>72504.0</td>\n",
              "      <td>76700.0</td>\n",
              "      <td>80324.0</td>\n",
              "      <td>83200.0</td>\n",
              "      <td>85451.0</td>\n",
              "      <td>87277.0</td>\n",
              "      <td>89005.0</td>\n",
              "      <td>90853.0</td>\n",
              "      <td>92898.0</td>\n",
              "      <td>94992.0</td>\n",
              "      <td>97017.0</td>\n",
              "      <td>98737.0</td>\n",
              "      <td>100031.0</td>\n",
              "      <td>100834.0</td>\n",
              "      <td>101222.0</td>\n",
              "      <td>101358.0</td>\n",
              "      <td>101455.0</td>\n",
              "      <td>101669.0</td>\n",
              "      <td>102046.0</td>\n",
              "      <td>102560.0</td>\n",
              "      <td>103159.0</td>\n",
              "      <td>103774.0</td>\n",
              "      <td>104341.0</td>\n",
              "      <td>104872.0</td>\n",
              "      <td>105366.0</td>\n",
              "      <td>105845.0</td>\n",
              "      <td>106314.0</td>\n",
              "      <td>NaN</td>\n",
              "      <td>NaN</td>\n",
              "    </tr>\n",
              "    <tr>\n",
              "      <th>1</th>\n",
              "      <td>Afghanistan</td>\n",
              "      <td>AFG</td>\n",
              "      <td>Population, total</td>\n",
              "      <td>SP.POP.TOTL</td>\n",
              "      <td>8996973.0</td>\n",
              "      <td>9169410.0</td>\n",
              "      <td>9351441.0</td>\n",
              "      <td>9543205.0</td>\n",
              "      <td>9744781.0</td>\n",
              "      <td>9956320.0</td>\n",
              "      <td>10174836.0</td>\n",
              "      <td>10399926.0</td>\n",
              "      <td>10637063.0</td>\n",
              "      <td>10893776.0</td>\n",
              "      <td>11173642.0</td>\n",
              "      <td>11475445.0</td>\n",
              "      <td>11791215.0</td>\n",
              "      <td>12108963.0</td>\n",
              "      <td>12412950.0</td>\n",
              "      <td>12689160.0</td>\n",
              "      <td>12943093.0</td>\n",
              "      <td>13171306.0</td>\n",
              "      <td>13341198.0</td>\n",
              "      <td>13411056.0</td>\n",
              "      <td>13356511.0</td>\n",
              "      <td>13171673.0</td>\n",
              "      <td>12882528.0</td>\n",
              "      <td>12537730.0</td>\n",
              "      <td>12204292.0</td>\n",
              "      <td>11938208.0</td>\n",
              "      <td>11736179.0</td>\n",
              "      <td>11604534.0</td>\n",
              "      <td>11618005.0</td>\n",
              "      <td>11868877.0</td>\n",
              "      <td>12412308.0</td>\n",
              "      <td>13299017.0</td>\n",
              "      <td>14485546.0</td>\n",
              "      <td>15816603.0</td>\n",
              "      <td>17075727.0</td>\n",
              "      <td>18110657.0</td>\n",
              "      <td>18853437.0</td>\n",
              "      <td>19357126.0</td>\n",
              "      <td>19737765.0</td>\n",
              "      <td>20170844.0</td>\n",
              "      <td>20779953.0</td>\n",
              "      <td>21606988.0</td>\n",
              "      <td>22600770.0</td>\n",
              "      <td>23680871.0</td>\n",
              "      <td>24726684.0</td>\n",
              "      <td>25654277.0</td>\n",
              "      <td>26433049.0</td>\n",
              "      <td>27100536.0</td>\n",
              "      <td>27722276.0</td>\n",
              "      <td>28394813.0</td>\n",
              "      <td>29185507.0</td>\n",
              "      <td>30117413.0</td>\n",
              "      <td>31161376.0</td>\n",
              "      <td>32269589.0</td>\n",
              "      <td>33370794.0</td>\n",
              "      <td>34413603.0</td>\n",
              "      <td>35383128.0</td>\n",
              "      <td>36296400.0</td>\n",
              "      <td>37172386.0</td>\n",
              "      <td>38041754.0</td>\n",
              "      <td>NaN</td>\n",
              "      <td>NaN</td>\n",
              "    </tr>\n",
              "    <tr>\n",
              "      <th>2</th>\n",
              "      <td>Angola</td>\n",
              "      <td>AGO</td>\n",
              "      <td>Population, total</td>\n",
              "      <td>SP.POP.TOTL</td>\n",
              "      <td>5454933.0</td>\n",
              "      <td>5531472.0</td>\n",
              "      <td>5608539.0</td>\n",
              "      <td>5679458.0</td>\n",
              "      <td>5735044.0</td>\n",
              "      <td>5770570.0</td>\n",
              "      <td>5781214.0</td>\n",
              "      <td>5774243.0</td>\n",
              "      <td>5771652.0</td>\n",
              "      <td>5803254.0</td>\n",
              "      <td>5890365.0</td>\n",
              "      <td>6040777.0</td>\n",
              "      <td>6248552.0</td>\n",
              "      <td>6496962.0</td>\n",
              "      <td>6761380.0</td>\n",
              "      <td>7024000.0</td>\n",
              "      <td>7279509.0</td>\n",
              "      <td>7533735.0</td>\n",
              "      <td>7790707.0</td>\n",
              "      <td>8058067.0</td>\n",
              "      <td>8341289.0</td>\n",
              "      <td>8640446.0</td>\n",
              "      <td>8952950.0</td>\n",
              "      <td>9278096.0</td>\n",
              "      <td>9614754.0</td>\n",
              "      <td>9961997.0</td>\n",
              "      <td>10320111.0</td>\n",
              "      <td>10689250.0</td>\n",
              "      <td>11068050.0</td>\n",
              "      <td>11454777.0</td>\n",
              "      <td>11848386.0</td>\n",
              "      <td>12248901.0</td>\n",
              "      <td>12657366.0</td>\n",
              "      <td>13075049.0</td>\n",
              "      <td>13503747.0</td>\n",
              "      <td>13945206.0</td>\n",
              "      <td>14400719.0</td>\n",
              "      <td>14871570.0</td>\n",
              "      <td>15359601.0</td>\n",
              "      <td>15866869.0</td>\n",
              "      <td>16395473.0</td>\n",
              "      <td>16945753.0</td>\n",
              "      <td>17519417.0</td>\n",
              "      <td>18121479.0</td>\n",
              "      <td>18758145.0</td>\n",
              "      <td>19433602.0</td>\n",
              "      <td>20149901.0</td>\n",
              "      <td>20905363.0</td>\n",
              "      <td>21695634.0</td>\n",
              "      <td>22514281.0</td>\n",
              "      <td>23356246.0</td>\n",
              "      <td>24220661.0</td>\n",
              "      <td>25107931.0</td>\n",
              "      <td>26015780.0</td>\n",
              "      <td>26941779.0</td>\n",
              "      <td>27884381.0</td>\n",
              "      <td>28842484.0</td>\n",
              "      <td>29816748.0</td>\n",
              "      <td>30809762.0</td>\n",
              "      <td>31825295.0</td>\n",
              "      <td>NaN</td>\n",
              "      <td>NaN</td>\n",
              "    </tr>\n",
              "    <tr>\n",
              "      <th>3</th>\n",
              "      <td>Albania</td>\n",
              "      <td>ALB</td>\n",
              "      <td>Population, total</td>\n",
              "      <td>SP.POP.TOTL</td>\n",
              "      <td>1608800.0</td>\n",
              "      <td>1659800.0</td>\n",
              "      <td>1711319.0</td>\n",
              "      <td>1762621.0</td>\n",
              "      <td>1814135.0</td>\n",
              "      <td>1864791.0</td>\n",
              "      <td>1914573.0</td>\n",
              "      <td>1965598.0</td>\n",
              "      <td>2022272.0</td>\n",
              "      <td>2081695.0</td>\n",
              "      <td>2135479.0</td>\n",
              "      <td>2187853.0</td>\n",
              "      <td>2243126.0</td>\n",
              "      <td>2296752.0</td>\n",
              "      <td>2350124.0</td>\n",
              "      <td>2404831.0</td>\n",
              "      <td>2458526.0</td>\n",
              "      <td>2513546.0</td>\n",
              "      <td>2566266.0</td>\n",
              "      <td>2617832.0</td>\n",
              "      <td>2671997.0</td>\n",
              "      <td>2726056.0</td>\n",
              "      <td>2784278.0</td>\n",
              "      <td>2843960.0</td>\n",
              "      <td>2904429.0</td>\n",
              "      <td>2964762.0</td>\n",
              "      <td>3022635.0</td>\n",
              "      <td>3083605.0</td>\n",
              "      <td>3142336.0</td>\n",
              "      <td>3227943.0</td>\n",
              "      <td>3286542.0</td>\n",
              "      <td>3266790.0</td>\n",
              "      <td>3247039.0</td>\n",
              "      <td>3227287.0</td>\n",
              "      <td>3207536.0</td>\n",
              "      <td>3187784.0</td>\n",
              "      <td>3168033.0</td>\n",
              "      <td>3148281.0</td>\n",
              "      <td>3128530.0</td>\n",
              "      <td>3108778.0</td>\n",
              "      <td>3089027.0</td>\n",
              "      <td>3060173.0</td>\n",
              "      <td>3051010.0</td>\n",
              "      <td>3039616.0</td>\n",
              "      <td>3026939.0</td>\n",
              "      <td>3011487.0</td>\n",
              "      <td>2992547.0</td>\n",
              "      <td>2970017.0</td>\n",
              "      <td>2947314.0</td>\n",
              "      <td>2927519.0</td>\n",
              "      <td>2913021.0</td>\n",
              "      <td>2905195.0</td>\n",
              "      <td>2900401.0</td>\n",
              "      <td>2895092.0</td>\n",
              "      <td>2889104.0</td>\n",
              "      <td>2880703.0</td>\n",
              "      <td>2876101.0</td>\n",
              "      <td>2873457.0</td>\n",
              "      <td>2866376.0</td>\n",
              "      <td>2854191.0</td>\n",
              "      <td>NaN</td>\n",
              "      <td>NaN</td>\n",
              "    </tr>\n",
              "    <tr>\n",
              "      <th>4</th>\n",
              "      <td>Andorra</td>\n",
              "      <td>AND</td>\n",
              "      <td>Population, total</td>\n",
              "      <td>SP.POP.TOTL</td>\n",
              "      <td>13411.0</td>\n",
              "      <td>14375.0</td>\n",
              "      <td>15370.0</td>\n",
              "      <td>16412.0</td>\n",
              "      <td>17469.0</td>\n",
              "      <td>18549.0</td>\n",
              "      <td>19647.0</td>\n",
              "      <td>20758.0</td>\n",
              "      <td>21890.0</td>\n",
              "      <td>23058.0</td>\n",
              "      <td>24276.0</td>\n",
              "      <td>25559.0</td>\n",
              "      <td>26892.0</td>\n",
              "      <td>28232.0</td>\n",
              "      <td>29520.0</td>\n",
              "      <td>30705.0</td>\n",
              "      <td>31777.0</td>\n",
              "      <td>32771.0</td>\n",
              "      <td>33737.0</td>\n",
              "      <td>34818.0</td>\n",
              "      <td>36067.0</td>\n",
              "      <td>37500.0</td>\n",
              "      <td>39114.0</td>\n",
              "      <td>40867.0</td>\n",
              "      <td>42706.0</td>\n",
              "      <td>44600.0</td>\n",
              "      <td>46517.0</td>\n",
              "      <td>48455.0</td>\n",
              "      <td>50434.0</td>\n",
              "      <td>52448.0</td>\n",
              "      <td>54509.0</td>\n",
              "      <td>56671.0</td>\n",
              "      <td>58888.0</td>\n",
              "      <td>60971.0</td>\n",
              "      <td>62677.0</td>\n",
              "      <td>63850.0</td>\n",
              "      <td>64360.0</td>\n",
              "      <td>64327.0</td>\n",
              "      <td>64142.0</td>\n",
              "      <td>64370.0</td>\n",
              "      <td>65390.0</td>\n",
              "      <td>67341.0</td>\n",
              "      <td>70049.0</td>\n",
              "      <td>73182.0</td>\n",
              "      <td>76244.0</td>\n",
              "      <td>78867.0</td>\n",
              "      <td>80993.0</td>\n",
              "      <td>82684.0</td>\n",
              "      <td>83862.0</td>\n",
              "      <td>84463.0</td>\n",
              "      <td>84449.0</td>\n",
              "      <td>83747.0</td>\n",
              "      <td>82427.0</td>\n",
              "      <td>80774.0</td>\n",
              "      <td>79213.0</td>\n",
              "      <td>78011.0</td>\n",
              "      <td>77297.0</td>\n",
              "      <td>77001.0</td>\n",
              "      <td>77006.0</td>\n",
              "      <td>77142.0</td>\n",
              "      <td>NaN</td>\n",
              "      <td>NaN</td>\n",
              "    </tr>\n",
              "  </tbody>\n",
              "</table>\n",
              "</div>"
            ],
            "text/plain": [
              "  Country Name Country Code     Indicator Name  ...        2019  2020  Unnamed: 65\n",
              "0        Aruba          ABW  Population, total  ...    106314.0   NaN          NaN\n",
              "1  Afghanistan          AFG  Population, total  ...  38041754.0   NaN          NaN\n",
              "2       Angola          AGO  Population, total  ...  31825295.0   NaN          NaN\n",
              "3      Albania          ALB  Population, total  ...   2854191.0   NaN          NaN\n",
              "4      Andorra          AND  Population, total  ...     77142.0   NaN          NaN\n",
              "\n",
              "[5 rows x 66 columns]"
            ]
          },
          "metadata": {
            "tags": []
          },
          "execution_count": 382
        }
      ]
    },
    {
      "cell_type": "code",
      "metadata": {
        "id": "6Mt2S3RkmKgD"
      },
      "source": [
        "# we need only thy sum. Delete unnecessary columns.\n",
        "population = population.drop(['Country Name', 'Indicator Name', 'Indicator Code','Country Code', 'Unnamed: 65'], axis=1)"
      ],
      "execution_count": 383,
      "outputs": []
    },
    {
      "cell_type": "code",
      "metadata": {
        "colab": {
          "base_uri": "https://localhost:8080/",
          "height": 293
        },
        "id": "Xmxsk48ammkn",
        "outputId": "91aae803-786d-4b99-e729-a779c64b0ed1"
      },
      "source": [
        "popul_sum = population.sum()\n",
        "popul_sum.plot()"
      ],
      "execution_count": 384,
      "outputs": [
        {
          "output_type": "execute_result",
          "data": {
            "text/plain": [
              "<matplotlib.axes._subplots.AxesSubplot at 0x7fa8e57d5790>"
            ]
          },
          "metadata": {
            "tags": []
          },
          "execution_count": 384
        },
        {
          "output_type": "display_data",
          "data": {
            "image/png": "[encoded data removed]",
            "text/plain": [
              "<Figure size 432x288 with 1 Axes>"
            ]
          },
          "metadata": {
            "tags": [],
            "needs_background": "light"
          }
        }
      ]
    },
    {
      "cell_type": "markdown",
      "metadata": {
        "id": "hSloCYb2nc5H"
      },
      "source": [
        "There is something missing at the end of the dataset. Let´s see the tail."
      ]
    },
    {
      "cell_type": "code",
      "metadata": {
        "colab": {
          "base_uri": "https://localhost:8080/"
        },
        "id": "vgXY_aivnTEk",
        "outputId": "1fd924a6-9307-4cec-bde2-4a56449054e7"
      },
      "source": [
        "popul_sum.tail()"
      ],
      "execution_count": 385,
      "outputs": [
        {
          "output_type": "execute_result",
          "data": {
            "text/plain": [
              "2016    7.877618e+10\n",
              "2017    7.974925e+10\n",
              "2018    8.070571e+10\n",
              "2019    8.165082e+10\n",
              "2020    0.000000e+00\n",
              "dtype: float64"
            ]
          },
          "metadata": {
            "tags": []
          },
          "execution_count": 385
        }
      ]
    },
    {
      "cell_type": "code",
      "metadata": {
        "colab": {
          "base_uri": "https://localhost:8080/",
          "height": 293
        },
        "id": "0gxPSX_znoDL",
        "outputId": "bd34a4ae-04a3-4766-f399-f5716713807d"
      },
      "source": [
        "#we have to get rid of the year 2020\n",
        "popul_sum = popul_sum.drop(['2020'])\n",
        "#check it\n",
        "popul_sum.plot()"
      ],
      "execution_count": 386,
      "outputs": [
        {
          "output_type": "execute_result",
          "data": {
            "text/plain": [
              "<matplotlib.axes._subplots.AxesSubplot at 0x7fa8e56c7890>"
            ]
          },
          "metadata": {
            "tags": []
          },
          "execution_count": 386
        },
        {
          "output_type": "display_data",
          "data": {
            "image/png": "[encoded data removed]",
            "text/plain": [
              "<Figure size 432x288 with 1 Axes>"
            ]
          },
          "metadata": {
            "tags": [],
            "needs_background": "light"
          }
        }
      ]
    },
    {
      "cell_type": "markdown",
      "metadata": {
        "id": "rr2yjqwnq8Mx"
      },
      "source": [
        "## <strong>Now we are going to concatenate the two datasets together</strong>"
      ]
    },
    {
      "cell_type": "code",
      "metadata": {
        "colab": {
          "base_uri": "https://localhost:8080/",
          "height": 662
        },
        "id": "EpzieKmPtU-L",
        "outputId": "fc030bc1-9334-40b3-b5cc-f73561085e0d"
      },
      "source": [
        "df1 = rifr_modi_mean.to_frame()\n",
        "df2 = popul_sum.to_frame()\n",
        "df3 = popul_sum.index.to_frame()\n",
        "df_m = pd.concat([df3, df2, df1], axis=1)\n",
        "df_m.columns = ['Year', 'Popul', 'RIFR']\n",
        "df_m.head(20)"
      ],
      "execution_count": 387,
      "outputs": [
        {
          "output_type": "execute_result",
          "data": {
            "text/html": [
              "<div>\n",
              "<style scoped>\n",
              "    .dataframe tbody tr th:only-of-type {\n",
              "        vertical-align: middle;\n",
              "    }\n",
              "\n",
              "    .dataframe tbody tr th {\n",
              "        vertical-align: top;\n",
              "    }\n",
              "\n",
              "    .dataframe thead th {\n",
              "        text-align: right;\n",
              "    }\n",
              "</style>\n",
              "<table border=\"1\" class=\"dataframe\">\n",
              "  <thead>\n",
              "    <tr style=\"text-align: right;\">\n",
              "      <th></th>\n",
              "      <th>Year</th>\n",
              "      <th>Popul</th>\n",
              "      <th>RIFR</th>\n",
              "    </tr>\n",
              "  </thead>\n",
              "  <tbody>\n",
              "    <tr>\n",
              "      <th>1960</th>\n",
              "      <td>1960</td>\n",
              "      <td>3.067910e+10</td>\n",
              "      <td>NaN</td>\n",
              "    </tr>\n",
              "    <tr>\n",
              "      <th>1961</th>\n",
              "      <td>1961</td>\n",
              "      <td>3.109155e+10</td>\n",
              "      <td>NaN</td>\n",
              "    </tr>\n",
              "    <tr>\n",
              "      <th>1962</th>\n",
              "      <td>1962</td>\n",
              "      <td>3.164271e+10</td>\n",
              "      <td>39691.071342</td>\n",
              "    </tr>\n",
              "    <tr>\n",
              "      <th>1963</th>\n",
              "      <td>1963</td>\n",
              "      <td>3.232857e+10</td>\n",
              "      <td>NaN</td>\n",
              "    </tr>\n",
              "    <tr>\n",
              "      <th>1964</th>\n",
              "      <td>1964</td>\n",
              "      <td>3.301982e+10</td>\n",
              "      <td>NaN</td>\n",
              "    </tr>\n",
              "    <tr>\n",
              "      <th>1965</th>\n",
              "      <td>1965</td>\n",
              "      <td>3.372814e+10</td>\n",
              "      <td>NaN</td>\n",
              "    </tr>\n",
              "    <tr>\n",
              "      <th>1966</th>\n",
              "      <td>1966</td>\n",
              "      <td>3.447389e+10</td>\n",
              "      <td>NaN</td>\n",
              "    </tr>\n",
              "    <tr>\n",
              "      <th>1967</th>\n",
              "      <td>1967</td>\n",
              "      <td>3.521684e+10</td>\n",
              "      <td>35360.823620</td>\n",
              "    </tr>\n",
              "    <tr>\n",
              "      <th>1968</th>\n",
              "      <td>1968</td>\n",
              "      <td>3.597359e+10</td>\n",
              "      <td>NaN</td>\n",
              "    </tr>\n",
              "    <tr>\n",
              "      <th>1969</th>\n",
              "      <td>1969</td>\n",
              "      <td>3.676787e+10</td>\n",
              "      <td>NaN</td>\n",
              "    </tr>\n",
              "    <tr>\n",
              "      <th>1970</th>\n",
              "      <td>1970</td>\n",
              "      <td>3.757354e+10</td>\n",
              "      <td>NaN</td>\n",
              "    </tr>\n",
              "    <tr>\n",
              "      <th>1971</th>\n",
              "      <td>1971</td>\n",
              "      <td>3.839996e+10</td>\n",
              "      <td>NaN</td>\n",
              "    </tr>\n",
              "    <tr>\n",
              "      <th>1972</th>\n",
              "      <td>1972</td>\n",
              "      <td>3.921634e+10</td>\n",
              "      <td>32218.536111</td>\n",
              "    </tr>\n",
              "    <tr>\n",
              "      <th>1973</th>\n",
              "      <td>1973</td>\n",
              "      <td>4.002739e+10</td>\n",
              "      <td>NaN</td>\n",
              "    </tr>\n",
              "    <tr>\n",
              "      <th>1974</th>\n",
              "      <td>1974</td>\n",
              "      <td>4.084107e+10</td>\n",
              "      <td>NaN</td>\n",
              "    </tr>\n",
              "    <tr>\n",
              "      <th>1975</th>\n",
              "      <td>1975</td>\n",
              "      <td>4.163911e+10</td>\n",
              "      <td>NaN</td>\n",
              "    </tr>\n",
              "    <tr>\n",
              "      <th>1976</th>\n",
              "      <td>1976</td>\n",
              "      <td>4.242453e+10</td>\n",
              "      <td>NaN</td>\n",
              "    </tr>\n",
              "    <tr>\n",
              "      <th>1977</th>\n",
              "      <td>1977</td>\n",
              "      <td>4.320735e+10</td>\n",
              "      <td>29325.995708</td>\n",
              "    </tr>\n",
              "    <tr>\n",
              "      <th>1978</th>\n",
              "      <td>1978</td>\n",
              "      <td>4.400370e+10</td>\n",
              "      <td>NaN</td>\n",
              "    </tr>\n",
              "    <tr>\n",
              "      <th>1979</th>\n",
              "      <td>1979</td>\n",
              "      <td>4.481933e+10</td>\n",
              "      <td>NaN</td>\n",
              "    </tr>\n",
              "  </tbody>\n",
              "</table>\n",
              "</div>"
            ],
            "text/plain": [
              "      Year         Popul          RIFR\n",
              "1960  1960  3.067910e+10           NaN\n",
              "1961  1961  3.109155e+10           NaN\n",
              "1962  1962  3.164271e+10  39691.071342\n",
              "1963  1963  3.232857e+10           NaN\n",
              "1964  1964  3.301982e+10           NaN\n",
              "1965  1965  3.372814e+10           NaN\n",
              "1966  1966  3.447389e+10           NaN\n",
              "1967  1967  3.521684e+10  35360.823620\n",
              "1968  1968  3.597359e+10           NaN\n",
              "1969  1969  3.676787e+10           NaN\n",
              "1970  1970  3.757354e+10           NaN\n",
              "1971  1971  3.839996e+10           NaN\n",
              "1972  1972  3.921634e+10  32218.536111\n",
              "1973  1973  4.002739e+10           NaN\n",
              "1974  1974  4.084107e+10           NaN\n",
              "1975  1975  4.163911e+10           NaN\n",
              "1976  1976  4.242453e+10           NaN\n",
              "1977  1977  4.320735e+10  29325.995708\n",
              "1978  1978  4.400370e+10           NaN\n",
              "1979  1979  4.481933e+10           NaN"
            ]
          },
          "metadata": {
            "tags": []
          },
          "execution_count": 387
        }
      ]
    },
    {
      "cell_type": "markdown",
      "metadata": {
        "id": "B--Rc6hE2JfI"
      },
      "source": [
        "Now, we have our dataset. Unfortunately there are data for rifr only for every fourth year. I´m going to fill the gaps using interpolation."
      ]
    },
    {
      "cell_type": "code",
      "metadata": {
        "id": "XJsKkI0-3k8x"
      },
      "source": [
        "#since the data for freshwater are available only until 2017, we have to get rid of the following years\n",
        "df_m.drop(['2018', '2019'], inplace=True)\n",
        "#now we can interpolate\n",
        "df_m.interpolate(inplace=True)\n",
        "# there are still 2 rows 0 and 1 with NaN. => drop them\n",
        "df_m.drop(['1960', '1961'], inplace=True)"
      ],
      "execution_count": 388,
      "outputs": []
    },
    {
      "cell_type": "code",
      "metadata": {
        "colab": {
          "base_uri": "https://localhost:8080/",
          "height": 202
        },
        "id": "g6RjWePTotmR",
        "outputId": "bc734f2c-da6d-4759-e7db-37bd71db278b"
      },
      "source": [
        "df_m.tail()\n",
        "df_m.head()"
      ],
      "execution_count": 389,
      "outputs": [
        {
          "output_type": "execute_result",
          "data": {
            "text/html": [
              "<div>\n",
              "<style scoped>\n",
              "    .dataframe tbody tr th:only-of-type {\n",
              "        vertical-align: middle;\n",
              "    }\n",
              "\n",
              "    .dataframe tbody tr th {\n",
              "        vertical-align: top;\n",
              "    }\n",
              "\n",
              "    .dataframe thead th {\n",
              "        text-align: right;\n",
              "    }\n",
              "</style>\n",
              "<table border=\"1\" class=\"dataframe\">\n",
              "  <thead>\n",
              "    <tr style=\"text-align: right;\">\n",
              "      <th></th>\n",
              "      <th>Year</th>\n",
              "      <th>Popul</th>\n",
              "      <th>RIFR</th>\n",
              "    </tr>\n",
              "  </thead>\n",
              "  <tbody>\n",
              "    <tr>\n",
              "      <th>1962</th>\n",
              "      <td>1962</td>\n",
              "      <td>3.164271e+10</td>\n",
              "      <td>39691.071342</td>\n",
              "    </tr>\n",
              "    <tr>\n",
              "      <th>1963</th>\n",
              "      <td>1963</td>\n",
              "      <td>3.232857e+10</td>\n",
              "      <td>38825.021798</td>\n",
              "    </tr>\n",
              "    <tr>\n",
              "      <th>1964</th>\n",
              "      <td>1964</td>\n",
              "      <td>3.301982e+10</td>\n",
              "      <td>37958.972254</td>\n",
              "    </tr>\n",
              "    <tr>\n",
              "      <th>1965</th>\n",
              "      <td>1965</td>\n",
              "      <td>3.372814e+10</td>\n",
              "      <td>37092.922709</td>\n",
              "    </tr>\n",
              "    <tr>\n",
              "      <th>1966</th>\n",
              "      <td>1966</td>\n",
              "      <td>3.447389e+10</td>\n",
              "      <td>36226.873165</td>\n",
              "    </tr>\n",
              "  </tbody>\n",
              "</table>\n",
              "</div>"
            ],
            "text/plain": [
              "      Year         Popul          RIFR\n",
              "1962  1962  3.164271e+10  39691.071342\n",
              "1963  1963  3.232857e+10  38825.021798\n",
              "1964  1964  3.301982e+10  37958.972254\n",
              "1965  1965  3.372814e+10  37092.922709\n",
              "1966  1966  3.447389e+10  36226.873165"
            ]
          },
          "metadata": {
            "tags": []
          },
          "execution_count": 389
        }
      ]
    },
    {
      "cell_type": "markdown",
      "metadata": {
        "id": "ALk5YB_WxlGr"
      },
      "source": [
        "Now, our dataset Renewable internal freshwater resources per capita = > rifr per capita with one column containing population values for each year is clean and ready for building a model. I decided to use polinomial regression model. Because the decrease of RIFR depends on population growth, I will build two models. The first one will be for population growth depended on year and the second one will be for RIFR fall depended on population growth."
      ]
    },
    {
      "cell_type": "code",
      "metadata": {
        "id": "jl4j8ByX_4Hh"
      },
      "source": [
        "#import libraries\n",
        "from sklearn import datasets\n",
        "from sklearn.model_selection import train_test_split\n",
        "from sklearn.datasets import load_boston\n",
        "from sklearn.linear_model import LinearRegression \n",
        "from sklearn.preprocessing import PolynomialFeatures "
      ],
      "execution_count": 390,
      "outputs": []
    },
    {
      "cell_type": "code",
      "metadata": {
        "id": "JUC54eRF-Y9J"
      },
      "source": [
        "#Prepare data\n",
        "X = df_m.iloc[:, :1].values\n",
        "y = df_m.iloc[:, 1:2].values"
      ],
      "execution_count": 391,
      "outputs": []
    },
    {
      "cell_type": "code",
      "metadata": {
        "id": "Wg2Af9qp-yXD"
      },
      "source": [
        "#setup the data\n",
        "poly = PolynomialFeatures(degree = 2) \n",
        "X = poly.fit_transform(X)\n",
        "X_train, X_test, y_train, y_test = train_test_split(X, y, test_size=0.2)\n",
        "model = LinearRegression() "
      ],
      "execution_count": 392,
      "outputs": []
    },
    {
      "cell_type": "code",
      "metadata": {
        "id": "GNGKKEFW--ij"
      },
      "source": [
        "#Fit the model + predict test set\n",
        "model.fit(X_train, y_train)\n",
        "expected_y  = y_test\n",
        "predicted_y = model.predict(X_test)"
      ],
      "execution_count": 393,
      "outputs": []
    },
    {
      "cell_type": "code",
      "metadata": {
        "colab": {
          "base_uri": "https://localhost:8080/"
        },
        "id": "GnWNDdTHDOIc",
        "outputId": "fbfb6e44-351f-48b1-ca7d-d276acc69662"
      },
      "source": [
        "# cehck the score , how accurate our model is.\n",
        "print(model.score(X_train,y_train))\n",
        "print(model.score(X_test,y_test))"
      ],
      "execution_count": 394,
      "outputs": [
        {
          "output_type": "stream",
          "text": [
            "0.9997461755771897\n",
            "0.9996446953734496\n"
          ],
          "name": "stdout"
        }
      ]
    },
    {
      "cell_type": "markdown",
      "metadata": {
        "id": "jVaqrT3UD3TG"
      },
      "source": [
        "not bad at all. Now let´s build the second model"
      ]
    },
    {
      "cell_type": "code",
      "metadata": {
        "colab": {
          "base_uri": "https://localhost:8080/"
        },
        "id": "Z8StzImvDz_I",
        "outputId": "d33d8f85-64c2-4f71-8f2e-858baaaa7f35"
      },
      "source": [
        "#Prepare data\n",
        "X2 = df_m.iloc[:, 1:2].values\n",
        "y2 = df_m.iloc[:, 2:3].values\n",
        "#setup the data\n",
        "poly2 = PolynomialFeatures(degree = 2 ) \n",
        "X2 = poly2.fit_transform(X2)\n",
        "X2_train, X2_test, y2_train, y2_test = train_test_split(X2, y2, test_size=0.2)\n",
        "model2 = LinearRegression() \n",
        "#Fit the model + predict test set\n",
        "model2.fit(X2_train, y2_train)\n",
        "expected2_y  = y2_test\n",
        "predicted2_y = model2.predict(X2_test)\n",
        "# cehck the score , how accurate our model is.\n",
        "print(model2.score(X2_train,y2_train))\n",
        "print(model2.score(X2_test,y2_test))"
      ],
      "execution_count": 395,
      "outputs": [
        {
          "output_type": "stream",
          "text": [
            "0.9988223154433199\n",
            "0.9989013435208002\n"
          ],
          "name": "stdout"
        }
      ]
    },
    {
      "cell_type": "markdown",
      "metadata": {
        "id": "EdIhVo9vF8hA"
      },
      "source": [
        "The two models are ready now to make a prediction for Renewable internal freshwater resources per capita for next years according to population growth"
      ]
    },
    {
      "cell_type": "code",
      "metadata": {
        "id": "SuDoCKtTEPyq"
      },
      "source": [
        "#get population values fo the future\n",
        "import numpy as np\n",
        "years_f = np.array(['2018', '2019', '2020', '2021', '2022', '2023', '2025', '2030', '2035', '2040', '2050', '2060', '2080', '2100'])\n",
        "df_yf = pd.DataFrame(years_f)\n",
        "X_years_f = poly.fit_transform(df_yf)\n",
        "popul_future = model.predict(X_years_f)"
      ],
      "execution_count": 396,
      "outputs": []
    },
    {
      "cell_type": "code",
      "metadata": {
        "colab": {
          "base_uri": "https://localhost:8080/"
        },
        "id": "4xskBfZdGv9P",
        "outputId": "4bb2e6d9-a9e0-4a81-9bf5-3d6026091c9e"
      },
      "source": [
        "print(popul_future)\n",
        "type(popul_future)"
      ],
      "execution_count": 397,
      "outputs": [
        {
          "output_type": "stream",
          "text": [
            "[[8.08626188e+10]\n",
            " [8.18408081e+10]\n",
            " [8.28221946e+10]\n",
            " [8.38067784e+10]\n",
            " [8.47945596e+10]\n",
            " [8.57855380e+10]\n",
            " [8.77770869e+10]\n",
            " [9.28119121e+10]\n",
            " [9.79266700e+10]\n",
            " [1.03121361e+11]\n",
            " [1.13750541e+11]\n",
            " [1.24699452e+11]\n",
            " [1.47556469e+11]\n",
            " [1.71692410e+11]]\n"
          ],
          "name": "stdout"
        },
        {
          "output_type": "execute_result",
          "data": {
            "text/plain": [
              "numpy.ndarray"
            ]
          },
          "metadata": {
            "tags": []
          },
          "execution_count": 397
        }
      ]
    },
    {
      "cell_type": "markdown",
      "metadata": {
        "id": "MjINpLuFMgJA"
      },
      "source": [
        "The prediction shows how the population will be developing in the future. Now we can take the prediction and put it in the second model"
      ]
    },
    {
      "cell_type": "code",
      "metadata": {
        "colab": {
          "base_uri": "https://localhost:8080/"
        },
        "id": "axJSXYWGMTfQ",
        "outputId": "78c2af46-e997-416a-960c-ddbcf6432e6c"
      },
      "source": [
        "#the second model\n",
        "df_pf = pd.DataFrame(popul_future)\n",
        "X_pf = poly2.fit_transform(df_pf)\n",
        "rifr_f = model2.predict(X_pf)\n",
        "rifr_f"
      ],
      "execution_count": 398,
      "outputs": [
        {
          "output_type": "execute_result",
          "data": {
            "text/plain": [
              "array([[14194.02887822],\n",
              "       [14116.84721231],\n",
              "       [14055.64311522],\n",
              "       [14010.57547409],\n",
              "       [13981.80369368],\n",
              "       [13969.4876964 ],\n",
              "       [13994.86532913],\n",
              "       [14357.57983177],\n",
              "       [15164.16516015],\n",
              "       [16435.32338065],\n",
              "       [20455.78441049],\n",
              "       [26591.05004021],\n",
              "       [45920.22592613],\n",
              "       [75903.07739462]])"
            ]
          },
          "metadata": {
            "tags": []
          },
          "execution_count": 398
        }
      ]
    },
    {
      "cell_type": "markdown",
      "metadata": {
        "id": "RifBbgLfQISF"
      },
      "source": [
        "add the prediction to available data of Renewable internal freshwater resources per capita"
      ]
    },
    {
      "cell_type": "code",
      "metadata": {
        "id": "qSKDN5WONf9I"
      },
      "source": [
        "rifr_fr = pd.Series(rifr_f.ravel(),index=['2018', '2019', '2020', '2021', '2022', '2023', '2025', '2030', '2035', '2040', '2050', '2060', '2080', '2100'])"
      ],
      "execution_count": 399,
      "outputs": []
    },
    {
      "cell_type": "code",
      "metadata": {
        "id": "GuJehcUUQrzq"
      },
      "source": [
        "rifr_cpl = pd.concat([rifr_modi_mean, rifr_fr])\n"
      ],
      "execution_count": 400,
      "outputs": []
    },
    {
      "cell_type": "code",
      "metadata": {
        "colab": {
          "base_uri": "https://localhost:8080/",
          "height": 282
        },
        "id": "qwrW0cWdRaTY",
        "outputId": "0092f215-4fd1-4373-ce88-4ab1617c28f3"
      },
      "source": [
        "rifr_cpl.plot()"
      ],
      "execution_count": 401,
      "outputs": [
        {
          "output_type": "execute_result",
          "data": {
            "text/plain": [
              "<matplotlib.axes._subplots.AxesSubplot at 0x7fa8e5993210>"
            ]
          },
          "metadata": {
            "tags": []
          },
          "execution_count": 401
        },
        {
          "output_type": "display_data",
          "data": {
            "image/png": "[encoded data removed]",
            "text/plain": [
              "<Figure size 432x288 with 1 Axes>"
            ]
          },
          "metadata": {
            "tags": [],
            "needs_background": "light"
          }
        }
      ]
    },
    {
      "cell_type": "markdown",
      "metadata": {
        "id": "kR-EPiBaWPT7"
      },
      "source": [
        "As you can see there is an error in my thinking, because the curve is rising in the tail. The reason there should be a linear model for the indicator freshwater resources per capita. lets change the model with degree = 1 => linear"
      ]
    },
    {
      "cell_type": "code",
      "metadata": {
        "colab": {
          "base_uri": "https://localhost:8080/",
          "height": 787
        },
        "id": "xgIRJYOhSGuB",
        "outputId": "738175cc-50d1-47c3-bd7e-10e6b91135de"
      },
      "source": [
        "#Prepare data\n",
        "X2 = df_m.iloc[:, 1:2].values\n",
        "y2 = df_m.iloc[:, 2:3].values\n",
        "#setup the data\n",
        "poly2 = PolynomialFeatures(degree = 1 ) \n",
        "X2 = poly2.fit_transform(X2)\n",
        "X2_train, X2_test, y2_train, y2_test = train_test_split(X2, y2, test_size=0.2)\n",
        "model2 = LinearRegression() \n",
        "#Fit the model + predict test set\n",
        "model2.fit(X2_train, y2_train)\n",
        "expected2_y  = y2_test\n",
        "predicted2_y = model2.predict(X2_test)\n",
        "# cehck the score , how accurate our model is.\n",
        "print(model2.score(X2_train,y2_train))\n",
        "print(model2.score(X2_test,y2_test))\n",
        "#the second model\n",
        "df_pf = pd.DataFrame(popul_future)\n",
        "X_pf = poly2.fit_transform(df_pf)\n",
        "rifr_f = model2.predict(X_pf)\n",
        "rifr_f\n",
        "rifr_fr = pd.Series(rifr_f.ravel(),index=['2018', '2019', '2020', '2021', '2022', '2023', '2025', '2030', '2035', '2040', '2050', '2060', '2080', '2100'])\n",
        "rifr_cpl = pd.concat([rifr_modi_mean, rifr_fr])\n",
        "\n",
        "\n",
        "plt.figure(figsize=(22,12))\n",
        "plt.xlabel('Year', fontsize=20)\n",
        "plt.ylabel('Cubic meters', fontsize=20)\n",
        "plt.title('Renewable internal freshwater resources per capita with prediction', fontsize=30)\n",
        "plt.bar(rifr_cpl.index, rifr_cpl.values)\n",
        "plt.show()"
      ],
      "execution_count": 402,
      "outputs": [
        {
          "output_type": "stream",
          "text": [
            "0.9617199620103352\n",
            "0.9322137596204905\n"
          ],
          "name": "stdout"
        },
        {
          "output_type": "display_data",
          "data": {
            "image/png": "[encoded data removed]",
            "text/plain": [
              "<Figure size 1584x864 with 1 Axes>"
            ]
          },
          "metadata": {
            "tags": [],
            "needs_background": "light"
          }
        }
      ]
    },
    {
      "cell_type": "code",
      "metadata": {
        "id": "5rfc8rcQXUzJ"
      },
      "source": [
        ""
      ],
      "execution_count": null,
      "outputs": []
    }
  ]
}